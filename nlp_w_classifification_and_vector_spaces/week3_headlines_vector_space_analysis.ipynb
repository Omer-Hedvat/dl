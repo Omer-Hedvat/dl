{
 "cells": [
  {
   "cell_type": "code",
   "execution_count": 176,
   "id": "d94333f5",
   "metadata": {},
   "outputs": [],
   "source": [
    "import collections\n",
    "import numpy as np\n",
    "import pandas as pd\n",
    "import re\n",
    "\n",
    "import matplotlib.pyplot as plt\n",
    "from mlxtend.plotting import plot_confusion_matrix\n",
    "from sklearn.linear_model import LogisticRegression\n",
    "import sklearn.metrics as metrics\n",
    "from sklearn.metrics import confusion_matrix, accuracy_score, roc_auc_score\n",
    "from sklearn.model_selection import train_test_split\n",
    "from sklearn.preprocessing import StandardScaler\n",
    "\n",
    "from nltk.stem import PorterStemmer\n",
    "from nltk.tokenize import word_tokenize\n",
    "from nltk.tokenize import RegexpTokenizer"
   ]
  },
  {
   "cell_type": "code",
   "execution_count": 84,
   "id": "4968c412",
   "metadata": {},
   "outputs": [],
   "source": [
    "data = pd.read_json('../data/News_Category_Dataset_v3.json', lines=True)"
   ]
  },
  {
   "cell_type": "code",
   "execution_count": 53,
   "id": "c7c08d7d",
   "metadata": {},
   "outputs": [
    {
     "data": {
      "text/html": [
       "<div>\n",
       "<style scoped>\n",
       "    .dataframe tbody tr th:only-of-type {\n",
       "        vertical-align: middle;\n",
       "    }\n",
       "\n",
       "    .dataframe tbody tr th {\n",
       "        vertical-align: top;\n",
       "    }\n",
       "\n",
       "    .dataframe thead th {\n",
       "        text-align: right;\n",
       "    }\n",
       "</style>\n",
       "<table border=\"1\" class=\"dataframe\">\n",
       "  <thead>\n",
       "    <tr style=\"text-align: right;\">\n",
       "      <th></th>\n",
       "      <th>link</th>\n",
       "      <th>headline</th>\n",
       "      <th>category</th>\n",
       "      <th>short_description</th>\n",
       "      <th>authors</th>\n",
       "      <th>date</th>\n",
       "    </tr>\n",
       "  </thead>\n",
       "  <tbody>\n",
       "    <tr>\n",
       "      <th>0</th>\n",
       "      <td>https://www.huffpost.com/entry/covid-boosters-uptake-us_n_632d719ee4b087fae6feaac9</td>\n",
       "      <td>Over 4 Million Americans Roll Up Sleeves For Omicron-Targeted COVID Boosters</td>\n",
       "      <td>U.S. NEWS</td>\n",
       "      <td>Health experts said it is too early to predict whether demand would match up with the 171 million doses of the new boosters the U.S. ordered for the fall.</td>\n",
       "      <td>Carla K. Johnson, AP</td>\n",
       "      <td>2022-09-23</td>\n",
       "    </tr>\n",
       "    <tr>\n",
       "      <th>1</th>\n",
       "      <td>https://www.huffpost.com/entry/american-airlines-passenger-banned-flight-attendant-punch-justice-department_n_632e25d3e4b0e247890329fe</td>\n",
       "      <td>American Airlines Flyer Charged, Banned For Life After Punching Flight Attendant On Video</td>\n",
       "      <td>U.S. NEWS</td>\n",
       "      <td>He was subdued by passengers and crew when he fled to the back of the aircraft after the confrontation, according to the U.S. attorney's office in Los Angeles.</td>\n",
       "      <td>Mary Papenfuss</td>\n",
       "      <td>2022-09-23</td>\n",
       "    </tr>\n",
       "    <tr>\n",
       "      <th>2</th>\n",
       "      <td>https://www.huffpost.com/entry/funniest-tweets-cats-dogs-september-17-23_n_632de332e4b0695c1d81dc02</td>\n",
       "      <td>23 Of The Funniest Tweets About Cats And Dogs This Week (Sept. 17-23)</td>\n",
       "      <td>COMEDY</td>\n",
       "      <td>\"Until you have a dog you don't understand what could be eaten.\"</td>\n",
       "      <td>Elyse Wanshel</td>\n",
       "      <td>2022-09-23</td>\n",
       "    </tr>\n",
       "    <tr>\n",
       "      <th>3</th>\n",
       "      <td>https://www.huffpost.com/entry/funniest-parenting-tweets_l_632d7d15e4b0d12b5403e479</td>\n",
       "      <td>The Funniest Tweets From Parents This Week (Sept. 17-23)</td>\n",
       "      <td>PARENTING</td>\n",
       "      <td>\"Accidentally put grown-up toothpaste on my toddler’s toothbrush and he screamed like I was cleaning his teeth with a Carolina Reaper dipped in Tabasco sauce.\"</td>\n",
       "      <td>Caroline Bologna</td>\n",
       "      <td>2022-09-23</td>\n",
       "    </tr>\n",
       "    <tr>\n",
       "      <th>4</th>\n",
       "      <td>https://www.huffpost.com/entry/amy-cooper-loses-discrimination-lawsuit-franklin-templeton_n_632c6463e4b09d8701bd227e</td>\n",
       "      <td>Woman Who Called Cops On Black Bird-Watcher Loses Lawsuit Against Ex-Employer</td>\n",
       "      <td>U.S. NEWS</td>\n",
       "      <td>Amy Cooper accused investment firm Franklin Templeton of unfairly firing her and branding her a racist after video of the Central Park encounter went viral.</td>\n",
       "      <td>Nina Golgowski</td>\n",
       "      <td>2022-09-22</td>\n",
       "    </tr>\n",
       "  </tbody>\n",
       "</table>\n",
       "</div>"
      ],
      "text/plain": [
       "                                                                                                                                     link  \\\n",
       "0                                                      https://www.huffpost.com/entry/covid-boosters-uptake-us_n_632d719ee4b087fae6feaac9   \n",
       "1  https://www.huffpost.com/entry/american-airlines-passenger-banned-flight-attendant-punch-justice-department_n_632e25d3e4b0e247890329fe   \n",
       "2                                     https://www.huffpost.com/entry/funniest-tweets-cats-dogs-september-17-23_n_632de332e4b0695c1d81dc02   \n",
       "3                                                     https://www.huffpost.com/entry/funniest-parenting-tweets_l_632d7d15e4b0d12b5403e479   \n",
       "4                    https://www.huffpost.com/entry/amy-cooper-loses-discrimination-lawsuit-franklin-templeton_n_632c6463e4b09d8701bd227e   \n",
       "\n",
       "                                                                                    headline  \\\n",
       "0               Over 4 Million Americans Roll Up Sleeves For Omicron-Targeted COVID Boosters   \n",
       "1  American Airlines Flyer Charged, Banned For Life After Punching Flight Attendant On Video   \n",
       "2                      23 Of The Funniest Tweets About Cats And Dogs This Week (Sept. 17-23)   \n",
       "3                                   The Funniest Tweets From Parents This Week (Sept. 17-23)   \n",
       "4              Woman Who Called Cops On Black Bird-Watcher Loses Lawsuit Against Ex-Employer   \n",
       "\n",
       "    category  \\\n",
       "0  U.S. NEWS   \n",
       "1  U.S. NEWS   \n",
       "2     COMEDY   \n",
       "3  PARENTING   \n",
       "4  U.S. NEWS   \n",
       "\n",
       "                                                                                                                                                 short_description  \\\n",
       "0       Health experts said it is too early to predict whether demand would match up with the 171 million doses of the new boosters the U.S. ordered for the fall.   \n",
       "1  He was subdued by passengers and crew when he fled to the back of the aircraft after the confrontation, according to the U.S. attorney's office in Los Angeles.   \n",
       "2                                                                                                 \"Until you have a dog you don't understand what could be eaten.\"   \n",
       "3  \"Accidentally put grown-up toothpaste on my toddler’s toothbrush and he screamed like I was cleaning his teeth with a Carolina Reaper dipped in Tabasco sauce.\"   \n",
       "4     Amy Cooper accused investment firm Franklin Templeton of unfairly firing her and branding her a racist after video of the Central Park encounter went viral.   \n",
       "\n",
       "                authors       date  \n",
       "0  Carla K. Johnson, AP 2022-09-23  \n",
       "1        Mary Papenfuss 2022-09-23  \n",
       "2         Elyse Wanshel 2022-09-23  \n",
       "3      Caroline Bologna 2022-09-23  \n",
       "4        Nina Golgowski 2022-09-22  "
      ]
     },
     "execution_count": 53,
     "metadata": {},
     "output_type": "execute_result"
    }
   ],
   "source": [
    "df.head()"
   ]
  },
  {
   "cell_type": "code",
   "execution_count": 55,
   "id": "6d98164b",
   "metadata": {},
   "outputs": [
    {
     "data": {
      "text/plain": [
       "POLITICS          35602\n",
       "WELLNESS          17945\n",
       "ENTERTAINMENT     17362\n",
       "TRAVEL             9900\n",
       "STYLE & BEAUTY     9814\n",
       "PARENTING          8791\n",
       "HEALTHY LIVING     6694\n",
       "QUEER VOICES       6347\n",
       "FOOD & DRINK       6340\n",
       "BUSINESS           5992\n",
       "COMEDY             5400\n",
       "SPORTS             5077\n",
       "BLACK VOICES       4583\n",
       "HOME & LIVING      4320\n",
       "PARENTS            3955\n",
       "THE WORLDPOST      3664\n",
       "WEDDINGS           3653\n",
       "WOMEN              3572\n",
       "CRIME              3562\n",
       "IMPACT             3484\n",
       "DIVORCE            3426\n",
       "WORLD NEWS         3299\n",
       "MEDIA              2944\n",
       "WEIRD NEWS         2777\n",
       "GREEN              2622\n",
       "WORLDPOST          2579\n",
       "RELIGION           2577\n",
       "STYLE              2254\n",
       "SCIENCE            2206\n",
       "TECH               2104\n",
       "TASTE              2096\n",
       "MONEY              1756\n",
       "ARTS               1509\n",
       "ENVIRONMENT        1444\n",
       "FIFTY              1401\n",
       "GOOD NEWS          1398\n",
       "U.S. NEWS          1377\n",
       "ARTS & CULTURE     1339\n",
       "COLLEGE            1144\n",
       "LATINO VOICES      1130\n",
       "CULTURE & ARTS     1074\n",
       "EDUCATION          1014\n",
       "Name: category, dtype: int64"
      ]
     },
     "execution_count": 55,
     "metadata": {},
     "output_type": "execute_result"
    }
   ],
   "source": [
    "df.category.value_counts()"
   ]
  },
  {
   "cell_type": "code",
   "execution_count": 62,
   "id": "69021584",
   "metadata": {},
   "outputs": [],
   "source": [
    "list_of_headlines = df.loc[df['category']=='CRIME', 'headline'].to_list()"
   ]
  },
  {
   "cell_type": "code",
   "execution_count": 67,
   "id": "d7e66811",
   "metadata": {},
   "outputs": [
    {
     "data": {
      "text/plain": [
       "Counter({'Memphis': 1,\n",
       "         'Police:': 1,\n",
       "         'Arrest': 1,\n",
       "         'Made': 1,\n",
       "         'In': 2,\n",
       "         \"Jogger's\": 1,\n",
       "         'Disappearance': 1,\n",
       "         'Trump': 1,\n",
       "         'Org.': 1,\n",
       "         'CFO': 1,\n",
       "         'To': 3,\n",
       "         'Plead': 1,\n",
       "         'Guilty,': 1,\n",
       "         'Testify': 1,\n",
       "         'Against': 1,\n",
       "         'Company': 1,\n",
       "         'Officials:': 1,\n",
       "         'NH': 1,\n",
       "         'Missing': 1,\n",
       "         'Girl': 1,\n",
       "         'Case': 1,\n",
       "         'Shifts': 1,\n",
       "         'Homicide': 1,\n",
       "         'Probe': 1,\n",
       "         'Albuquerque': 2,\n",
       "         'Police': 2,\n",
       "         'Share': 1,\n",
       "         'Photo': 1,\n",
       "         'Of': 3,\n",
       "         'Car': 1,\n",
       "         'Eyed': 1,\n",
       "         'Slayings': 1,\n",
       "         'Muslim': 2,\n",
       "         'Men': 1,\n",
       "         'Tell': 1,\n",
       "         'Community': 1,\n",
       "         'Be': 1,\n",
       "         \"'Vigilant'\": 1,\n",
       "         'Amid': 1,\n",
       "         'Series': 1,\n",
       "         'Murders': 1})"
      ]
     },
     "execution_count": 67,
     "metadata": {},
     "output_type": "execute_result"
    }
   ],
   "source": [
    "list_of_words = [word for headline in list_of_headlines for word in headline.split()]\n",
    "words_dict = collections.Counter(list_of_words)\n",
    "words_dict"
   ]
  },
  {
   "cell_type": "code",
   "execution_count": 77,
   "id": "f3923192",
   "metadata": {},
   "outputs": [
    {
     "data": {
      "text/html": [
       "<div>\n",
       "<style scoped>\n",
       "    .dataframe tbody tr th:only-of-type {\n",
       "        vertical-align: middle;\n",
       "    }\n",
       "\n",
       "    .dataframe tbody tr th {\n",
       "        vertical-align: top;\n",
       "    }\n",
       "\n",
       "    .dataframe thead th {\n",
       "        text-align: right;\n",
       "    }\n",
       "</style>\n",
       "<table border=\"1\" class=\"dataframe\">\n",
       "  <thead>\n",
       "    <tr style=\"text-align: right;\">\n",
       "      <th></th>\n",
       "      <th>word</th>\n",
       "      <th>count</th>\n",
       "    </tr>\n",
       "  </thead>\n",
       "  <tbody>\n",
       "    <tr>\n",
       "      <th>0</th>\n",
       "      <td>Memphis</td>\n",
       "      <td>1</td>\n",
       "    </tr>\n",
       "    <tr>\n",
       "      <th>1</th>\n",
       "      <td>Police:</td>\n",
       "      <td>1</td>\n",
       "    </tr>\n",
       "    <tr>\n",
       "      <th>2</th>\n",
       "      <td>Arrest</td>\n",
       "      <td>1</td>\n",
       "    </tr>\n",
       "    <tr>\n",
       "      <th>3</th>\n",
       "      <td>Made</td>\n",
       "      <td>1</td>\n",
       "    </tr>\n",
       "    <tr>\n",
       "      <th>4</th>\n",
       "      <td>In</td>\n",
       "      <td>2</td>\n",
       "    </tr>\n",
       "  </tbody>\n",
       "</table>\n",
       "</div>"
      ],
      "text/plain": [
       "      word  count\n",
       "0  Memphis      1\n",
       "1  Police:      1\n",
       "2   Arrest      1\n",
       "3     Made      1\n",
       "4       In      2"
      ]
     },
     "execution_count": 77,
     "metadata": {},
     "output_type": "execute_result"
    }
   ],
   "source": [
    "df = pd.DataFrame.from_dict(words_dict, orient='index').reset_index().rename(columns={\"index\": \"word\", 0: \"count\"})\n",
    "df.head()"
   ]
  },
  {
   "cell_type": "code",
   "execution_count": 180,
   "id": "c4135da3",
   "metadata": {},
   "outputs": [
    {
     "data": {
      "text/plain": [
       "['Eighty', 'seven', 'miles', 'to', 'go', 'yet', 'Onward', 'a', '6']"
      ]
     },
     "execution_count": 180,
     "metadata": {},
     "output_type": "execute_result"
    }
   ],
   "source": [
    "tokenizer = RegexpTokenizer(r'\\w+')\n",
    "tokenizer.tokenize('Eighty-seven miles to go, yet.  Onward! a $6')"
   ]
  },
  {
   "cell_type": "code",
   "execution_count": 186,
   "id": "bc3dbdc2",
   "metadata": {},
   "outputs": [],
   "source": [
    "def punctioation_fix(sentence):  \n",
    "    tokenizer = RegexpTokenizer(r'\\w+')\n",
    "    words_list = tokenizer.tokenize(sentence.lower())\n",
    "    return words_list"
   ]
  },
  {
   "cell_type": "code",
   "execution_count": 100,
   "id": "8f490ee9",
   "metadata": {},
   "outputs": [],
   "source": [
    "def words_stemming(words_list):    \n",
    "    ps = PorterStemmer()\n",
    "    stem_words = [ps.stem(word) for word in words_list]\n",
    "    return stem_words"
   ]
  },
  {
   "cell_type": "code",
   "execution_count": 101,
   "id": "4041562f",
   "metadata": {},
   "outputs": [],
   "source": [
    "def reduce_stop_words(words_list):\n",
    "    text = ' '.join(words_list)\n",
    "    filtered_sentence = remove_stopwords(text)\n",
    "    return filtered_sentence.split()"
   ]
  },
  {
   "cell_type": "code",
   "execution_count": 181,
   "id": "e4a7baa9",
   "metadata": {},
   "outputs": [],
   "source": [
    "def adjust_headline(sentence):    \n",
    "    words_list = punctioation_fix(sentence)\n",
    "    \n",
    "    words_list = [word for word in words_list if len(word) > 1]        \n",
    "    \n",
    "    words_list = words_stemming(words_list)\n",
    "    \n",
    "    words_list = reduce_stop_words(words_list)\n",
    "    \n",
    "    return ' '.join(words_list)"
   ]
  },
  {
   "cell_type": "code",
   "execution_count": 182,
   "id": "2d593a80",
   "metadata": {},
   "outputs": [],
   "source": [
    "def create_vocabulary(data, label_column, data_column):\n",
    "    list_of_headlines = data[data_column].apply(adjust_headline).tolist()\n",
    "    set_of_words = set([word for headline in list_of_headlines for word in headline.split()])\n",
    "\n",
    "    columns = data[label_column].unique().tolist()\n",
    "    columns =  [col.lower().replace('&', 'n').replace(' ', '_') for col in columns]\n",
    "\n",
    "    columns_dict = {i: col for i, col in enumerate(columns)}\n",
    "    columns_dict['index'] = 'word'\n",
    "    df = pd.DataFrame(index=set_of_words , columns=np.arange(len(columns))).reset_index().rename(columns=columns_dict).fillna(0)\n",
    "    \n",
    "    return df, columns"
   ]
  },
  {
   "cell_type": "code",
   "execution_count": null,
   "id": "c3bc5ec2",
   "metadata": {},
   "outputs": [],
   "source": [
    "def update_category_values(df):\n",
    "    for cat in data['category'].unique():\n",
    "        list_of_headlines = data.loc[data['category']==cat, 'headline'].to_list()\n",
    "        list_of_words = [word for headline in list_of_headlines for word in adjust_headline(headline).split()]\n",
    "        words_dict = collections.Counter(list_of_words)\n",
    "        \n",
    "        for word, value in words_dict.items():\n",
    "            df.loc[df[\"word\"] == word, \"crime\"] = value\n",
    "            \n",
    "    return df\n",
    "df = update_category_values(df)"
   ]
  }
 ],
 "metadata": {
  "kernelspec": {
   "display_name": "Python 3 (ipykernel)",
   "language": "python",
   "name": "python3"
  },
  "language_info": {
   "codemirror_mode": {
    "name": "ipython",
    "version": 3
   },
   "file_extension": ".py",
   "mimetype": "text/x-python",
   "name": "python",
   "nbconvert_exporter": "python",
   "pygments_lexer": "ipython3",
   "version": "3.9.10"
  }
 },
 "nbformat": 4,
 "nbformat_minor": 5
}
