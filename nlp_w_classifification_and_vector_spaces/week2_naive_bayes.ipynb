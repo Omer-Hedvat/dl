{
 "cells": [
  {
   "cell_type": "code",
   "execution_count": 1,
   "id": "e2e96745",
   "metadata": {},
   "outputs": [],
   "source": [
    "import collections\n",
    "import numpy as np\n",
    "import pandas as pd\n",
    "import re\n",
    "\n",
    "import matplotlib.pyplot as plt\n",
    "from mlxtend.plotting import plot_confusion_matrix\n",
    "import sklearn.metrics as metrics\n",
    "from sklearn.metrics import confusion_matrix, accuracy_score, roc_auc_score\n",
    "from sklearn.model_selection import train_test_split\n",
    "from sklearn.preprocessing import StandardScaler\n",
    "\n",
    "from gensim.parsing.preprocessing import remove_stopwords\n",
    "from nltk.stem import PorterStemmer\n",
    "from nltk.tokenize import word_tokenize"
   ]
  },
  {
   "cell_type": "markdown",
   "id": "a3d3b91e",
   "metadata": {},
   "source": [
    "### Tweets sentiment analysis using Naive Bayes\n",
    "1. Adjust tweets\n",
    "2. Build dictionary vocabularies\n",
    "3. Calculate 'lambda' for each word\n",
    "4. Calculate 'log_prior' & tweets' scores\n",
    "5. Calculate metrics\n",
    "\n",
    "\n",
    "#### Data from https://www.kaggle.com/datasets/kazanova/sentiment140"
   ]
  },
  {
   "cell_type": "code",
   "execution_count": 2,
   "id": "ad6d0e21",
   "metadata": {},
   "outputs": [],
   "source": [
    "data = pd.read_csv('../data/twitter_sentiment_analysis_data_raw.csv', encoding='latin-1', names=['label', 'id', 'data', 'query', 'author', 'tweet'])"
   ]
  },
  {
   "cell_type": "code",
   "execution_count": 3,
   "id": "2df6d13b",
   "metadata": {},
   "outputs": [
    {
     "data": {
      "text/plain": [
       "0    800000\n",
       "1    800000\n",
       "Name: label, dtype: int64"
      ]
     },
     "execution_count": 3,
     "metadata": {},
     "output_type": "execute_result"
    }
   ],
   "source": [
    "data.loc[data['label']==4, 'label'] = 1\n",
    "data.label.value_counts()"
   ]
  },
  {
   "cell_type": "code",
   "execution_count": 4,
   "id": "bc3e7920",
   "metadata": {},
   "outputs": [
    {
     "data": {
      "text/html": [
       "<div>\n",
       "<style scoped>\n",
       "    .dataframe tbody tr th:only-of-type {\n",
       "        vertical-align: middle;\n",
       "    }\n",
       "\n",
       "    .dataframe tbody tr th {\n",
       "        vertical-align: top;\n",
       "    }\n",
       "\n",
       "    .dataframe thead th {\n",
       "        text-align: right;\n",
       "    }\n",
       "</style>\n",
       "<table border=\"1\" class=\"dataframe\">\n",
       "  <thead>\n",
       "    <tr style=\"text-align: right;\">\n",
       "      <th></th>\n",
       "      <th>label</th>\n",
       "      <th>id</th>\n",
       "      <th>data</th>\n",
       "      <th>query</th>\n",
       "      <th>author</th>\n",
       "      <th>tweet</th>\n",
       "    </tr>\n",
       "  </thead>\n",
       "  <tbody>\n",
       "    <tr>\n",
       "      <th>0</th>\n",
       "      <td>0</td>\n",
       "      <td>1467810369</td>\n",
       "      <td>Mon Apr 06 22:19:45 PDT 2009</td>\n",
       "      <td>NO_QUERY</td>\n",
       "      <td>_TheSpecialOne_</td>\n",
       "      <td>@switchfoot http://twitpic.com/2y1zl - Awww, t...</td>\n",
       "    </tr>\n",
       "    <tr>\n",
       "      <th>1</th>\n",
       "      <td>0</td>\n",
       "      <td>1467810672</td>\n",
       "      <td>Mon Apr 06 22:19:49 PDT 2009</td>\n",
       "      <td>NO_QUERY</td>\n",
       "      <td>scotthamilton</td>\n",
       "      <td>is upset that he can't update his Facebook by ...</td>\n",
       "    </tr>\n",
       "    <tr>\n",
       "      <th>2</th>\n",
       "      <td>0</td>\n",
       "      <td>1467810917</td>\n",
       "      <td>Mon Apr 06 22:19:53 PDT 2009</td>\n",
       "      <td>NO_QUERY</td>\n",
       "      <td>mattycus</td>\n",
       "      <td>@Kenichan I dived many times for the ball. Man...</td>\n",
       "    </tr>\n",
       "    <tr>\n",
       "      <th>3</th>\n",
       "      <td>0</td>\n",
       "      <td>1467811184</td>\n",
       "      <td>Mon Apr 06 22:19:57 PDT 2009</td>\n",
       "      <td>NO_QUERY</td>\n",
       "      <td>ElleCTF</td>\n",
       "      <td>my whole body feels itchy and like its on fire</td>\n",
       "    </tr>\n",
       "    <tr>\n",
       "      <th>4</th>\n",
       "      <td>0</td>\n",
       "      <td>1467811193</td>\n",
       "      <td>Mon Apr 06 22:19:57 PDT 2009</td>\n",
       "      <td>NO_QUERY</td>\n",
       "      <td>Karoli</td>\n",
       "      <td>@nationwideclass no, it's not behaving at all....</td>\n",
       "    </tr>\n",
       "  </tbody>\n",
       "</table>\n",
       "</div>"
      ],
      "text/plain": [
       "   label          id                          data     query           author  \\\n",
       "0      0  1467810369  Mon Apr 06 22:19:45 PDT 2009  NO_QUERY  _TheSpecialOne_   \n",
       "1      0  1467810672  Mon Apr 06 22:19:49 PDT 2009  NO_QUERY    scotthamilton   \n",
       "2      0  1467810917  Mon Apr 06 22:19:53 PDT 2009  NO_QUERY         mattycus   \n",
       "3      0  1467811184  Mon Apr 06 22:19:57 PDT 2009  NO_QUERY          ElleCTF   \n",
       "4      0  1467811193  Mon Apr 06 22:19:57 PDT 2009  NO_QUERY           Karoli   \n",
       "\n",
       "                                               tweet  \n",
       "0  @switchfoot http://twitpic.com/2y1zl - Awww, t...  \n",
       "1  is upset that he can't update his Facebook by ...  \n",
       "2  @Kenichan I dived many times for the ball. Man...  \n",
       "3    my whole body feels itchy and like its on fire   \n",
       "4  @nationwideclass no, it's not behaving at all....  "
      ]
     },
     "execution_count": 4,
     "metadata": {},
     "output_type": "execute_result"
    }
   ],
   "source": [
    "data.head()"
   ]
  },
  {
   "cell_type": "code",
   "execution_count": 5,
   "id": "6e125683",
   "metadata": {},
   "outputs": [],
   "source": [
    "def words_stemming(words_list):    \n",
    "    ps = PorterStemmer()\n",
    "    stem_words = [ps.stem(word) for word in words_list]\n",
    "    return stem_words"
   ]
  },
  {
   "cell_type": "code",
   "execution_count": 6,
   "id": "fef7c599",
   "metadata": {},
   "outputs": [],
   "source": [
    "def reduce_stop_words(words_list):\n",
    "    text = ' '.join(words_list)\n",
    "    filtered_sentence = remove_stopwords(text)\n",
    "    return filtered_sentence.split()"
   ]
  },
  {
   "cell_type": "code",
   "execution_count": 7,
   "id": "c9d73a02",
   "metadata": {},
   "outputs": [],
   "source": [
    "def adjust_tweet(sentence):    \n",
    "    re_punctuations = r\"\"\",|'|\\.|!|\\?|&|\"|:|[|]|;|quot|\\\\/|\\\\(|\\\\)|http\\S+|www\\S+|@\\S+|.com\\S+|-|_|=|\\+\"\"\"        \n",
    "    words_list = re.sub(re_punctuations, \"\", sentence.lower()).split()    \n",
    "    \n",
    "    words_list = [word for word in words_list if len(word) > 1]        \n",
    "    \n",
    "    words_list = words_stemming(words_list)\n",
    "    \n",
    "    words_list = reduce_stop_words(words_list)\n",
    "    \n",
    "    return ' '.join(words_list)"
   ]
  },
  {
   "cell_type": "code",
   "execution_count": 8,
   "id": "b9d56192",
   "metadata": {},
   "outputs": [],
   "source": [
    "def txt_to_list(file_name):\n",
    "    my_file = open(file_name, \"r\", encoding=\"utf8\")\n",
    "    content_list = [line.rstrip('\\n') for line in my_file.readlines()]\n",
    "    return content_list\n",
    "\n",
    "def build_vocabularies_dicts(data, label_col, sentence_col):\n",
    "    pos_vocabulary = [\n",
    "        word\n",
    "        for tweet in data.loc[data[label_col]==1, sentence_col].values.tolist() \n",
    "        for word in tweet.split() \n",
    "    ]\n",
    "    \n",
    "    neg_vocabulary = [\n",
    "        word\n",
    "        for tweet in data.loc[data[label_col]==0, sentence_col].values.tolist() \n",
    "        for word in tweet.split() \n",
    "    ]\n",
    "\n",
    "    return pos_vocabulary, neg_vocabulary    "
   ]
  },
  {
   "cell_type": "code",
   "execution_count": 9,
   "id": "97e533b3",
   "metadata": {},
   "outputs": [],
   "source": [
    "def calculate_lambdas(pos_freq, neg_freq):\n",
    "    df_pos = pd.DataFrame([(k, v) for k, v in pos_freq.items()], columns=['word', 'pos_count'])\n",
    "    df_neg = pd.DataFrame([(k, v) for k, v in neg_freq.items()], columns=['word', 'neg_count'])\n",
    "    df_vocabulary = pd.merge(df_pos, df_neg, on='word', how='outer').fillna(0)\n",
    "    \n",
    "    df_vocabulary['p_pos'] = (df_vocabulary['pos_count'] + 1) / (df_pos.shape[0] + df_vocabulary.shape[0])\n",
    "    df_vocabulary['p_neg'] = (df_vocabulary['neg_count'] + 1) / (df_pos.shape[0] + df_vocabulary.shape[0])\n",
    "    \n",
    "    df_vocabulary['ratio'] = df_vocabulary['p_pos'] / df_vocabulary['p_neg']\n",
    "    df_vocabulary['lambda'] = np.log2(df_vocabulary['ratio'])\n",
    "    \n",
    "    return df_vocabulary"
   ]
  },
  {
   "cell_type": "code",
   "execution_count": 10,
   "id": "39031bdf",
   "metadata": {},
   "outputs": [],
   "source": [
    "def calculate_scores(sentence, df_vocabulary, log_prior):\n",
    "    lambdas_dict = {k: v for k, v in df_vocabulary[['word', 'lambda']].to_numpy().tolist()}\n",
    "    score = 0\n",
    "    \n",
    "    for word in sentence.split():\n",
    "        score += lambdas_dict.get(word, 0)\n",
    "    return score + log_prior"
   ]
  },
  {
   "cell_type": "markdown",
   "id": "15988406",
   "metadata": {},
   "source": [
    "# Sampled data"
   ]
  },
  {
   "cell_type": "code",
   "execution_count": 11,
   "id": "6e48e46a",
   "metadata": {},
   "outputs": [],
   "source": [
    "df = data.groupby('label').head(1250).reset_index(drop=True)"
   ]
  },
  {
   "cell_type": "code",
   "execution_count": 12,
   "id": "0df836a0",
   "metadata": {},
   "outputs": [],
   "source": [
    "train, test = train_test_split(df, test_size=0.7, random_state=42)"
   ]
  },
  {
   "cell_type": "markdown",
   "id": "3eb9957b",
   "metadata": {},
   "source": [
    "### 1. Adjust tweets"
   ]
  },
  {
   "cell_type": "code",
   "execution_count": 13,
   "id": "ed77d4c6",
   "metadata": {
    "scrolled": false
   },
   "outputs": [
    {
     "data": {
      "text/html": [
       "<div>\n",
       "<style scoped>\n",
       "    .dataframe tbody tr th:only-of-type {\n",
       "        vertical-align: middle;\n",
       "    }\n",
       "\n",
       "    .dataframe tbody tr th {\n",
       "        vertical-align: top;\n",
       "    }\n",
       "\n",
       "    .dataframe thead th {\n",
       "        text-align: right;\n",
       "    }\n",
       "</style>\n",
       "<table border=\"1\" class=\"dataframe\">\n",
       "  <thead>\n",
       "    <tr style=\"text-align: right;\">\n",
       "      <th></th>\n",
       "      <th>label</th>\n",
       "      <th>id</th>\n",
       "      <th>data</th>\n",
       "      <th>query</th>\n",
       "      <th>author</th>\n",
       "      <th>tweet</th>\n",
       "      <th>adjusted_tweet</th>\n",
       "    </tr>\n",
       "  </thead>\n",
       "  <tbody>\n",
       "    <tr>\n",
       "      <th>132</th>\n",
       "      <td>0</td>\n",
       "      <td>1467842107</td>\n",
       "      <td>Mon Apr 06 22:28:02 PDT 2009</td>\n",
       "      <td>NO_QUERY</td>\n",
       "      <td>wiccabuffy</td>\n",
       "      <td>@Knights_ No, no notice. They told me I'd be w...</td>\n",
       "      <td>notic told id work tomorrow agenc follow said wa</td>\n",
       "    </tr>\n",
       "    <tr>\n",
       "      <th>80</th>\n",
       "      <td>0</td>\n",
       "      <td>1467834053</td>\n",
       "      <td>Mon Apr 06 22:25:52 PDT 2009</td>\n",
       "      <td>NO_QUERY</td>\n",
       "      <td>thelazyboy</td>\n",
       "      <td>sleep soon... i just hate saying bye and see y...</td>\n",
       "      <td>sleep soon hate bye tomorrow night</td>\n",
       "    </tr>\n",
       "    <tr>\n",
       "      <th>1586</th>\n",
       "      <td>1</td>\n",
       "      <td>1467881695</td>\n",
       "      <td>Mon Apr 06 22:38:24 PDT 2009</td>\n",
       "      <td>NO_QUERY</td>\n",
       "      <td>JonLanderos</td>\n",
       "      <td>Ahh, the tedium of fixing broken file links in...</td>\n",
       "      <td>ahh tedium fix broken file link inventor good ...</td>\n",
       "    </tr>\n",
       "    <tr>\n",
       "      <th>2157</th>\n",
       "      <td>1</td>\n",
       "      <td>1467987805</td>\n",
       "      <td>Mon Apr 06 23:08:11 PDT 2009</td>\n",
       "      <td>NO_QUERY</td>\n",
       "      <td>Tarale</td>\n",
       "      <td>Had a great lunch with one of my &amp;quot;mums&amp;qu...</td>\n",
       "      <td>great lunch mum today birthday tomorrow got li...</td>\n",
       "    </tr>\n",
       "    <tr>\n",
       "      <th>758</th>\n",
       "      <td>0</td>\n",
       "      <td>1467999499</td>\n",
       "      <td>Mon Apr 06 23:11:30 PDT 2009</td>\n",
       "      <td>NO_QUERY</td>\n",
       "      <td>jj_1983</td>\n",
       "      <td>Back at work  @ John Muir Dr http://loopt.us/K...</td>\n",
       "      <td>work john muir dr</td>\n",
       "    </tr>\n",
       "  </tbody>\n",
       "</table>\n",
       "</div>"
      ],
      "text/plain": [
       "      label          id                          data     query       author  \\\n",
       "132       0  1467842107  Mon Apr 06 22:28:02 PDT 2009  NO_QUERY   wiccabuffy   \n",
       "80        0  1467834053  Mon Apr 06 22:25:52 PDT 2009  NO_QUERY   thelazyboy   \n",
       "1586      1  1467881695  Mon Apr 06 22:38:24 PDT 2009  NO_QUERY  JonLanderos   \n",
       "2157      1  1467987805  Mon Apr 06 23:08:11 PDT 2009  NO_QUERY       Tarale   \n",
       "758       0  1467999499  Mon Apr 06 23:11:30 PDT 2009  NO_QUERY      jj_1983   \n",
       "\n",
       "                                                  tweet  \\\n",
       "132   @Knights_ No, no notice. They told me I'd be w...   \n",
       "80    sleep soon... i just hate saying bye and see y...   \n",
       "1586  Ahh, the tedium of fixing broken file links in...   \n",
       "2157  Had a great lunch with one of my &quot;mums&qu...   \n",
       "758   Back at work  @ John Muir Dr http://loopt.us/K...   \n",
       "\n",
       "                                         adjusted_tweet  \n",
       "132    notic told id work tomorrow agenc follow said wa  \n",
       "80                   sleep soon hate bye tomorrow night  \n",
       "1586  ahh tedium fix broken file link inventor good ...  \n",
       "2157  great lunch mum today birthday tomorrow got li...  \n",
       "758                                   work john muir dr  "
      ]
     },
     "execution_count": 13,
     "metadata": {},
     "output_type": "execute_result"
    }
   ],
   "source": [
    "train['adjusted_tweet'] = train['tweet'].apply(adjust_tweet)\n",
    "test['adjusted_tweet'] = test['tweet'].apply(adjust_tweet)\n",
    "train.head()"
   ]
  },
  {
   "cell_type": "markdown",
   "id": "eadb1ec4",
   "metadata": {},
   "source": [
    "### 2. Create vocabulary dictionaries"
   ]
  },
  {
   "cell_type": "code",
   "execution_count": 14,
   "id": "deff696a",
   "metadata": {},
   "outputs": [],
   "source": [
    "pos_vocabulary, neg_vocabulary = build_vocabularies_dicts(train, 'label', 'adjusted_tweet')\n",
    "neg_freq = collections.Counter(x for x in neg_vocabulary)\n",
    "pos_freq = collections.Counter(x for x in pos_vocabulary)"
   ]
  },
  {
   "cell_type": "markdown",
   "id": "3a6496a1",
   "metadata": {},
   "source": [
    "### 3. Calculate words lambda values"
   ]
  },
  {
   "cell_type": "code",
   "execution_count": 15,
   "id": "f77cdbe6",
   "metadata": {},
   "outputs": [
    {
     "data": {
      "text/html": [
       "<div>\n",
       "<style scoped>\n",
       "    .dataframe tbody tr th:only-of-type {\n",
       "        vertical-align: middle;\n",
       "    }\n",
       "\n",
       "    .dataframe tbody tr th {\n",
       "        vertical-align: top;\n",
       "    }\n",
       "\n",
       "    .dataframe thead th {\n",
       "        text-align: right;\n",
       "    }\n",
       "</style>\n",
       "<table border=\"1\" class=\"dataframe\">\n",
       "  <thead>\n",
       "    <tr style=\"text-align: right;\">\n",
       "      <th></th>\n",
       "      <th>word</th>\n",
       "      <th>pos_count</th>\n",
       "      <th>neg_count</th>\n",
       "      <th>p_pos</th>\n",
       "      <th>p_neg</th>\n",
       "      <th>ratio</th>\n",
       "      <th>lambda</th>\n",
       "    </tr>\n",
       "  </thead>\n",
       "  <tbody>\n",
       "    <tr>\n",
       "      <th>1324</th>\n",
       "      <td>agenc</td>\n",
       "      <td>0.0</td>\n",
       "      <td>2.0</td>\n",
       "      <td>0.000285</td>\n",
       "      <td>0.000856</td>\n",
       "      <td>0.333333</td>\n",
       "      <td>-1.584963</td>\n",
       "    </tr>\n",
       "    <tr>\n",
       "      <th>1325</th>\n",
       "      <td>bye</td>\n",
       "      <td>0.0</td>\n",
       "      <td>1.0</td>\n",
       "      <td>0.000285</td>\n",
       "      <td>0.000571</td>\n",
       "      <td>0.500000</td>\n",
       "      <td>-1.000000</td>\n",
       "    </tr>\n",
       "    <tr>\n",
       "      <th>1326</th>\n",
       "      <td>john</td>\n",
       "      <td>0.0</td>\n",
       "      <td>2.0</td>\n",
       "      <td>0.000285</td>\n",
       "      <td>0.000856</td>\n",
       "      <td>0.333333</td>\n",
       "      <td>-1.584963</td>\n",
       "    </tr>\n",
       "    <tr>\n",
       "      <th>1327</th>\n",
       "      <td>muir</td>\n",
       "      <td>0.0</td>\n",
       "      <td>1.0</td>\n",
       "      <td>0.000285</td>\n",
       "      <td>0.000571</td>\n",
       "      <td>0.500000</td>\n",
       "      <td>-1.000000</td>\n",
       "    </tr>\n",
       "    <tr>\n",
       "      <th>1328</th>\n",
       "      <td>suck</td>\n",
       "      <td>0.0</td>\n",
       "      <td>5.0</td>\n",
       "      <td>0.000285</td>\n",
       "      <td>0.001712</td>\n",
       "      <td>0.166667</td>\n",
       "      <td>-2.584963</td>\n",
       "    </tr>\n",
       "  </tbody>\n",
       "</table>\n",
       "</div>"
      ],
      "text/plain": [
       "       word  pos_count  neg_count     p_pos     p_neg     ratio    lambda\n",
       "1324  agenc        0.0        2.0  0.000285  0.000856  0.333333 -1.584963\n",
       "1325    bye        0.0        1.0  0.000285  0.000571  0.500000 -1.000000\n",
       "1326   john        0.0        2.0  0.000285  0.000856  0.333333 -1.584963\n",
       "1327   muir        0.0        1.0  0.000285  0.000571  0.500000 -1.000000\n",
       "1328   suck        0.0        5.0  0.000285  0.001712  0.166667 -2.584963"
      ]
     },
     "execution_count": 15,
     "metadata": {},
     "output_type": "execute_result"
    }
   ],
   "source": [
    "df_vocabulary = calculate_lambdas(pos_freq, neg_freq)\n",
    "df_vocabulary.loc[df_vocabulary['pos_count'] == 0].head(5)"
   ]
  },
  {
   "cell_type": "markdown",
   "id": "07e742ea",
   "metadata": {},
   "source": [
    "### 4. Calculate 'log_prior' and tweet scores"
   ]
  },
  {
   "cell_type": "code",
   "execution_count": 16,
   "id": "77d94bd7",
   "metadata": {},
   "outputs": [
    {
     "data": {
      "text/html": [
       "<div>\n",
       "<style scoped>\n",
       "    .dataframe tbody tr th:only-of-type {\n",
       "        vertical-align: middle;\n",
       "    }\n",
       "\n",
       "    .dataframe tbody tr th {\n",
       "        vertical-align: top;\n",
       "    }\n",
       "\n",
       "    .dataframe thead th {\n",
       "        text-align: right;\n",
       "    }\n",
       "</style>\n",
       "<table border=\"1\" class=\"dataframe\">\n",
       "  <thead>\n",
       "    <tr style=\"text-align: right;\">\n",
       "      <th></th>\n",
       "      <th>label</th>\n",
       "      <th>id</th>\n",
       "      <th>data</th>\n",
       "      <th>query</th>\n",
       "      <th>author</th>\n",
       "      <th>tweet</th>\n",
       "      <th>adjusted_tweet</th>\n",
       "      <th>score</th>\n",
       "      <th>pred</th>\n",
       "    </tr>\n",
       "  </thead>\n",
       "  <tbody>\n",
       "    <tr>\n",
       "      <th>1447</th>\n",
       "      <td>1</td>\n",
       "      <td>1467861286</td>\n",
       "      <td>Mon Apr 06 22:32:57 PDT 2009</td>\n",
       "      <td>NO_QUERY</td>\n",
       "      <td>llliizzziiiee</td>\n",
       "      <td>@Westneyrhindxx hello westney  what are you do...</td>\n",
       "      <td>hello westney</td>\n",
       "      <td>-0.016000</td>\n",
       "      <td>0</td>\n",
       "    </tr>\n",
       "    <tr>\n",
       "      <th>1114</th>\n",
       "      <td>0</td>\n",
       "      <td>1468083884</td>\n",
       "      <td>Mon Apr 06 23:37:29 PDT 2009</td>\n",
       "      <td>NO_QUERY</td>\n",
       "      <td>pstannard1</td>\n",
       "      <td>got woken up this mornng at 7am - damn Lorry ,...</td>\n",
       "      <td>got woken thi mornng 7am damn lorri van car ac...</td>\n",
       "      <td>-7.426817</td>\n",
       "      <td>0</td>\n",
       "    </tr>\n",
       "    <tr>\n",
       "      <th>1064</th>\n",
       "      <td>0</td>\n",
       "      <td>1468072530</td>\n",
       "      <td>Mon Apr 06 23:33:55 PDT 2009</td>\n",
       "      <td>NO_QUERY</td>\n",
       "      <td>SarahDeG</td>\n",
       "      <td>Why do I keep looking...I know that what I rea...</td>\n",
       "      <td>whi lookingi know read gonna hurt look guess g...</td>\n",
       "      <td>-2.587157</td>\n",
       "      <td>0</td>\n",
       "    </tr>\n",
       "    <tr>\n",
       "      <th>2287</th>\n",
       "      <td>1</td>\n",
       "      <td>1468007017</td>\n",
       "      <td>Mon Apr 06 23:13:40 PDT 2009</td>\n",
       "      <td>NO_QUERY</td>\n",
       "      <td>Hetty4Christ</td>\n",
       "      <td>Pray for my friend @growline late work...pray ...</td>\n",
       "      <td>pray friend late workpray goe wellwith energi ...</td>\n",
       "      <td>3.144464</td>\n",
       "      <td>1</td>\n",
       "    </tr>\n",
       "    <tr>\n",
       "      <th>1537</th>\n",
       "      <td>1</td>\n",
       "      <td>1467864444</td>\n",
       "      <td>Mon Apr 06 22:33:48 PDT 2009</td>\n",
       "      <td>NO_QUERY</td>\n",
       "      <td>elysemize</td>\n",
       "      <td>@JonathanRKnight  i do embrace the simple life...</td>\n",
       "      <td>embrac simpl life simpl thing like new kid reu...</td>\n",
       "      <td>-0.659022</td>\n",
       "      <td>0</td>\n",
       "    </tr>\n",
       "  </tbody>\n",
       "</table>\n",
       "</div>"
      ],
      "text/plain": [
       "      label          id                          data     query  \\\n",
       "1447      1  1467861286  Mon Apr 06 22:32:57 PDT 2009  NO_QUERY   \n",
       "1114      0  1468083884  Mon Apr 06 23:37:29 PDT 2009  NO_QUERY   \n",
       "1064      0  1468072530  Mon Apr 06 23:33:55 PDT 2009  NO_QUERY   \n",
       "2287      1  1468007017  Mon Apr 06 23:13:40 PDT 2009  NO_QUERY   \n",
       "1537      1  1467864444  Mon Apr 06 22:33:48 PDT 2009  NO_QUERY   \n",
       "\n",
       "             author                                              tweet  \\\n",
       "1447  llliizzziiiee  @Westneyrhindxx hello westney  what are you do...   \n",
       "1114     pstannard1  got woken up this mornng at 7am - damn Lorry ,...   \n",
       "1064       SarahDeG  Why do I keep looking...I know that what I rea...   \n",
       "2287   Hetty4Christ  Pray for my friend @growline late work...pray ...   \n",
       "1537      elysemize  @JonathanRKnight  i do embrace the simple life...   \n",
       "\n",
       "                                         adjusted_tweet     score  pred  \n",
       "1447                                      hello westney -0.016000     0  \n",
       "1114  got woken thi mornng 7am damn lorri van car ac... -7.426817     0  \n",
       "1064  whi lookingi know read gonna hurt look guess g... -2.587157     0  \n",
       "2287  pray friend late workpray goe wellwith energi ...  3.144464     1  \n",
       "1537  embrac simpl life simpl thing like new kid reu... -0.659022     0  "
      ]
     },
     "execution_count": 16,
     "metadata": {},
     "output_type": "execute_result"
    }
   ],
   "source": [
    "log_prior = np.log(train.loc[train['label'] == 1].shape[0] / train.loc[train['label'] == 0].shape[0])\n",
    "test['score'] = test['adjusted_tweet'].apply(calculate_scores, args=(df_vocabulary, log_prior))\n",
    "test['pred'] = (test['score'] > 0).astype(int)\n",
    "test.head()"
   ]
  },
  {
   "cell_type": "markdown",
   "id": "21b39458",
   "metadata": {},
   "source": [
    "### 5. Results"
   ]
  },
  {
   "cell_type": "code",
   "execution_count": 17,
   "id": "229df504",
   "metadata": {},
   "outputs": [
    {
     "data": {
      "image/png": "[encoded data removed]",
      "text/plain": [
       "<Figure size 432x432 with 1 Axes>"
      ]
     },
     "metadata": {
      "needs_background": "light"
     },
     "output_type": "display_data"
    }
   ],
   "source": [
    "conf_mat = confusion_matrix(test['label'], test['pred'])\n",
    "fig, ax = plot_confusion_matrix(conf_mat=conf_mat, figsize=(6, 6), cmap=plt.cm.Greens)\n",
    "plt.xlabel('Predictions', fontsize=18)\n",
    "plt.ylabel('Actuals', fontsize=18)\n",
    "plt.title('Confusion Matrix', fontsize=18)\n",
    "plt.show()\n"
   ]
  },
  {
   "cell_type": "code",
   "execution_count": 18,
   "id": "b5b6d2de",
   "metadata": {},
   "outputs": [
    {
     "data": {
      "text/plain": [
       "0.6365714285714286"
      ]
     },
     "execution_count": 18,
     "metadata": {},
     "output_type": "execute_result"
    }
   ],
   "source": [
    "logreg=accuracy_score(test['label'], test['pred'])\n",
    "logreg"
   ]
  },
  {
   "cell_type": "code",
   "execution_count": 19,
   "id": "0604b232",
   "metadata": {},
   "outputs": [
    {
     "data": {
      "text/plain": [
       "0.6367395665712314"
      ]
     },
     "execution_count": 19,
     "metadata": {},
     "output_type": "execute_result"
    }
   ],
   "source": [
    "roc_auc_score(test['label'], test['pred'])"
   ]
  },
  {
   "cell_type": "code",
   "execution_count": 20,
   "id": "cfcb8e23",
   "metadata": {},
   "outputs": [
    {
     "name": "stdout",
     "output_type": "stream",
     "text": [
      "              precision    recall  f1-score   support\n",
      "\n",
      "           0       0.62      0.69      0.65       872\n",
      "           1       0.65      0.59      0.62       878\n",
      "\n",
      "    accuracy                           0.64      1750\n",
      "   macro avg       0.64      0.64      0.64      1750\n",
      "weighted avg       0.64      0.64      0.64      1750\n",
      "\n"
     ]
    }
   ],
   "source": [
    "print(metrics.classification_report(test['label'], test['pred']))"
   ]
  },
  {
   "cell_type": "markdown",
   "id": "d2694baf",
   "metadata": {},
   "source": [
    "# Using all data"
   ]
  },
  {
   "cell_type": "code",
   "execution_count": 21,
   "id": "aa70b1a7",
   "metadata": {},
   "outputs": [
    {
     "data": {
      "text/plain": [
       "0    800000\n",
       "1    800000\n",
       "Name: label, dtype: int64"
      ]
     },
     "execution_count": 21,
     "metadata": {},
     "output_type": "execute_result"
    }
   ],
   "source": [
    "df = data\n",
    "df.label.value_counts()"
   ]
  },
  {
   "cell_type": "code",
   "execution_count": 22,
   "id": "4c228d4b",
   "metadata": {},
   "outputs": [],
   "source": [
    "train, test = train_test_split(df, test_size=0.7, random_state=42)\n",
    "\n",
    "train['adjusted_tweet'] = train['tweet'].apply(adjust_tweet)\n",
    "test['adjusted_tweet'] = test['tweet'].apply(adjust_tweet)\n",
    "\n",
    "pos_vocabulary, neg_vocabulary = build_vocabularies_dicts(train, 'label', 'adjusted_tweet')\n",
    "neg_freq = collections.Counter(x for x in neg_vocabulary)\n",
    "pos_freq = collections.Counter(x for x in pos_vocabulary)"
   ]
  },
  {
   "cell_type": "code",
   "execution_count": 23,
   "id": "d9065ae6",
   "metadata": {},
   "outputs": [],
   "source": [
    "df_vocabulary = calculate_lambdas(pos_freq, neg_freq)"
   ]
  },
  {
   "cell_type": "code",
   "execution_count": null,
   "id": "d25fd021",
   "metadata": {},
   "outputs": [],
   "source": [
    "log_prior = np.log(train.loc[train['label'] == 1].shape[0] / train.loc[train['label'] == 0].shape[0])\n",
    "test['score'] = test['adjusted_tweet'].apply(calculate_scores, args=(df_vocabulary, log_prior))\n",
    "test['pred'] = (test['score'] > 0).astype(int)"
   ]
  },
  {
   "cell_type": "code",
   "execution_count": null,
   "id": "dfb84df4",
   "metadata": {},
   "outputs": [],
   "source": [
    "conf_mat = confusion_matrix(test['label'], test['pred'])\n",
    "fig, ax = plot_confusion_matrix(conf_mat=conf_mat, figsize=(6, 6), cmap=plt.cm.Greens)\n",
    "plt.xlabel('Predictions', fontsize=18)\n",
    "plt.ylabel('Actuals', fontsize=18)\n",
    "plt.title('Confusion Matrix', fontsize=18)\n",
    "plt.show()"
   ]
  },
  {
   "cell_type": "code",
   "execution_count": null,
   "id": "a1b3fc9e",
   "metadata": {},
   "outputs": [],
   "source": [
    "logreg=accuracy_score(test['label'], test['pred'])\n",
    "logreg"
   ]
  },
  {
   "cell_type": "code",
   "execution_count": null,
   "id": "6edd90f0",
   "metadata": {},
   "outputs": [],
   "source": [
    "roc_auc_score(test['label'], test['pred'])"
   ]
  },
  {
   "cell_type": "code",
   "execution_count": null,
   "id": "84c46d40",
   "metadata": {},
   "outputs": [],
   "source": [
    "print(metrics.classification_report(test['label'], test['pred']))"
   ]
  }
 ],
 "metadata": {
  "kernelspec": {
   "display_name": "Python 3 (ipykernel)",
   "language": "python",
   "name": "python3"
  },
  "language_info": {
   "codemirror_mode": {
    "name": "ipython",
    "version": 3
   },
   "file_extension": ".py",
   "mimetype": "text/x-python",
   "name": "python",
   "nbconvert_exporter": "python",
   "pygments_lexer": "ipython3",
   "version": "3.9.10"
  }
 },
 "nbformat": 4,
 "nbformat_minor": 5
}
