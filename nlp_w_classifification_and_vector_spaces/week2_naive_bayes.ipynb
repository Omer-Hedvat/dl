{
 "cells": [
  {
   "cell_type": "code",
   "execution_count": 87,
   "id": "e2e96745",
   "metadata": {},
   "outputs": [],
   "source": [
    "import collections\n",
    "import numpy as np\n",
    "import pandas as pd\n",
    "import re\n",
    "\n",
    "from mlxtend.plotting import plot_confusion_matrix\n",
    "import sklearn.metrics as metrics\n",
    "from sklearn.metrics import confusion_matrix, accuracy_score, roc_auc_score\n",
    "from sklearn.model_selection import train_test_split\n",
    "from sklearn.preprocessing import StandardScaler\n",
    "\n",
    "from gensim.parsing.preprocessing import remove_stopwords\n",
    "from nltk.stem import PorterStemmer\n",
    "from nltk.tokenize import word_tokenize"
   ]
  },
  {
   "cell_type": "code",
   "execution_count": 88,
   "id": "ad6d0e21",
   "metadata": {},
   "outputs": [],
   "source": [
    "data = pd.read_csv('../data/twitter_sentiment_analysis_data_raw.csv', encoding='latin-1', names=['label', 'id', 'data', 'query', 'author', 'tweet'])"
   ]
  },
  {
   "cell_type": "code",
   "execution_count": 89,
   "id": "2df6d13b",
   "metadata": {},
   "outputs": [
    {
     "data": {
      "text/plain": [
       "0    800000\n",
       "1    800000\n",
       "Name: label, dtype: int64"
      ]
     },
     "execution_count": 89,
     "metadata": {},
     "output_type": "execute_result"
    }
   ],
   "source": [
    "data.loc[data['label']==4, 'label'] = 1\n",
    "data.label.value_counts()"
   ]
  },
  {
   "cell_type": "code",
   "execution_count": 90,
   "id": "bc3e7920",
   "metadata": {},
   "outputs": [
    {
     "data": {
      "text/html": [
       "<div>\n",
       "<style scoped>\n",
       "    .dataframe tbody tr th:only-of-type {\n",
       "        vertical-align: middle;\n",
       "    }\n",
       "\n",
       "    .dataframe tbody tr th {\n",
       "        vertical-align: top;\n",
       "    }\n",
       "\n",
       "    .dataframe thead th {\n",
       "        text-align: right;\n",
       "    }\n",
       "</style>\n",
       "<table border=\"1\" class=\"dataframe\">\n",
       "  <thead>\n",
       "    <tr style=\"text-align: right;\">\n",
       "      <th></th>\n",
       "      <th>label</th>\n",
       "      <th>id</th>\n",
       "      <th>data</th>\n",
       "      <th>query</th>\n",
       "      <th>author</th>\n",
       "      <th>tweet</th>\n",
       "    </tr>\n",
       "  </thead>\n",
       "  <tbody>\n",
       "    <tr>\n",
       "      <th>0</th>\n",
       "      <td>0</td>\n",
       "      <td>1467810369</td>\n",
       "      <td>Mon Apr 06 22:19:45 PDT 2009</td>\n",
       "      <td>NO_QUERY</td>\n",
       "      <td>_TheSpecialOne_</td>\n",
       "      <td>@switchfoot http://twitpic.com/2y1zl - Awww, that's a bummer.  You shoulda got David Carr of Third Day to do it. ;D</td>\n",
       "    </tr>\n",
       "    <tr>\n",
       "      <th>1</th>\n",
       "      <td>0</td>\n",
       "      <td>1467810672</td>\n",
       "      <td>Mon Apr 06 22:19:49 PDT 2009</td>\n",
       "      <td>NO_QUERY</td>\n",
       "      <td>scotthamilton</td>\n",
       "      <td>is upset that he can't update his Facebook by texting it... and might cry as a result  School today also. Blah!</td>\n",
       "    </tr>\n",
       "    <tr>\n",
       "      <th>2</th>\n",
       "      <td>0</td>\n",
       "      <td>1467810917</td>\n",
       "      <td>Mon Apr 06 22:19:53 PDT 2009</td>\n",
       "      <td>NO_QUERY</td>\n",
       "      <td>mattycus</td>\n",
       "      <td>@Kenichan I dived many times for the ball. Managed to save 50%  The rest go out of bounds</td>\n",
       "    </tr>\n",
       "    <tr>\n",
       "      <th>3</th>\n",
       "      <td>0</td>\n",
       "      <td>1467811184</td>\n",
       "      <td>Mon Apr 06 22:19:57 PDT 2009</td>\n",
       "      <td>NO_QUERY</td>\n",
       "      <td>ElleCTF</td>\n",
       "      <td>my whole body feels itchy and like its on fire</td>\n",
       "    </tr>\n",
       "    <tr>\n",
       "      <th>4</th>\n",
       "      <td>0</td>\n",
       "      <td>1467811193</td>\n",
       "      <td>Mon Apr 06 22:19:57 PDT 2009</td>\n",
       "      <td>NO_QUERY</td>\n",
       "      <td>Karoli</td>\n",
       "      <td>@nationwideclass no, it's not behaving at all. i'm mad. why am i here? because I can't see you all over there.</td>\n",
       "    </tr>\n",
       "  </tbody>\n",
       "</table>\n",
       "</div>"
      ],
      "text/plain": [
       "   label          id                          data     query           author  \\\n",
       "0      0  1467810369  Mon Apr 06 22:19:45 PDT 2009  NO_QUERY  _TheSpecialOne_   \n",
       "1      0  1467810672  Mon Apr 06 22:19:49 PDT 2009  NO_QUERY    scotthamilton   \n",
       "2      0  1467810917  Mon Apr 06 22:19:53 PDT 2009  NO_QUERY         mattycus   \n",
       "3      0  1467811184  Mon Apr 06 22:19:57 PDT 2009  NO_QUERY          ElleCTF   \n",
       "4      0  1467811193  Mon Apr 06 22:19:57 PDT 2009  NO_QUERY           Karoli   \n",
       "\n",
       "                                                                                                                 tweet  \n",
       "0  @switchfoot http://twitpic.com/2y1zl - Awww, that's a bummer.  You shoulda got David Carr of Third Day to do it. ;D  \n",
       "1      is upset that he can't update his Facebook by texting it... and might cry as a result  School today also. Blah!  \n",
       "2                            @Kenichan I dived many times for the ball. Managed to save 50%  The rest go out of bounds  \n",
       "3                                                                      my whole body feels itchy and like its on fire   \n",
       "4      @nationwideclass no, it's not behaving at all. i'm mad. why am i here? because I can't see you all over there.   "
      ]
     },
     "execution_count": 90,
     "metadata": {},
     "output_type": "execute_result"
    }
   ],
   "source": [
    "data.head()"
   ]
  },
  {
   "cell_type": "code",
   "execution_count": 91,
   "id": "6e125683",
   "metadata": {},
   "outputs": [],
   "source": [
    "def words_stemming(words_list):    \n",
    "    ps = PorterStemmer()\n",
    "    stem_words = [ps.stem(word) for word in words_list]\n",
    "    return stem_words"
   ]
  },
  {
   "cell_type": "code",
   "execution_count": 92,
   "id": "fef7c599",
   "metadata": {},
   "outputs": [],
   "source": [
    "def reduce_stop_words(words_list):\n",
    "    text = ' '.join(words_list)\n",
    "    filtered_sentence = remove_stopwords(text)\n",
    "    return filtered_sentence.split()"
   ]
  },
  {
   "cell_type": "code",
   "execution_count": 93,
   "id": "c9d73a02",
   "metadata": {},
   "outputs": [],
   "source": [
    "def adjust_tweet(sentence):    \n",
    "    re_punctuations = r\"\"\",|'|\\.|!|\\?|&|\"|:|[|]|;|quot|\\\\/|\\\\(|\\\\)|http\\S+|www\\S+|@\\S+|.com\\S+|-|_|=|\\+\"\"\"        \n",
    "    words_list = re.sub(re_punctuations, \"\", sentence.lower()).split()    \n",
    "    \n",
    "    words_list = [word for word in words_list if len(word) > 1]        \n",
    "    \n",
    "    words_list = words_stemming(words_list)\n",
    "    \n",
    "    words_list = reduce_stop_words(words_list)\n",
    "    \n",
    "    return ' '.join(words_list)"
   ]
  },
  {
   "cell_type": "code",
   "execution_count": 94,
   "id": "b9d56192",
   "metadata": {},
   "outputs": [],
   "source": [
    "def txt_to_list(file_name):\n",
    "    my_file = open(file_name, \"r\", encoding=\"utf8\")\n",
    "    content_list = [line.rstrip('\\n') for line in my_file.readlines()]\n",
    "    return content_list\n",
    "\n",
    "def build_vocabularies(data, label_col, sentence_col):\n",
    "    pos_vocabulary = [\n",
    "        word\n",
    "        for tweet in data.loc[data[label_col]==1, sentence_col].values.tolist() \n",
    "        for word in tweet.split() \n",
    "    ]\n",
    "    \n",
    "    neg_vocabulary = [\n",
    "        word\n",
    "        for tweet in data.loc[data[label_col]==0, sentence_col].values.tolist() \n",
    "        for word in tweet.split() \n",
    "    ]\n",
    "\n",
    "    return pos_vocabulary, neg_vocabulary    "
   ]
  },
  {
   "cell_type": "code",
   "execution_count": 95,
   "id": "97e533b3",
   "metadata": {},
   "outputs": [],
   "source": [
    "def build_vocabulary(pos_freq=pos_freq, neg_freq=neg_freq):\n",
    "    df_pos = pd.DataFrame([(k, v) for k, v in pos_freq.items()], columns=['word', 'pos_count'])\n",
    "    df_neg = pd.DataFrame([(k, v) for k, v in neg_freq.items()], columns=['word', 'neg_count'])\n",
    "    df_vocabulary = pd.merge(df_pos, df_neg, on='word', how='outer').fillna(0)\n",
    "    \n",
    "    df_vocabulary['p_pos'] = (df_vocabulary['pos_count'] + 1) / (df_pos.shape[0] + df_vocabulary.shape[0])\n",
    "    df_vocabulary['p_neg'] = (df_vocabulary['neg_count'] + 1) / (df_pos.shape[0] + df_vocabulary.shape[0])\n",
    "    \n",
    "    df_vocabulary['ratio'] = df_vocabulary['p_pos'] / df_vocabulary['p_neg']\n",
    "    df_vocabulary['lambda'] = np.log2(df_vocabulary['ratio'])\n",
    "    \n",
    "    return df_vocabulary"
   ]
  },
  {
   "cell_type": "code",
   "execution_count": 137,
   "id": "39031bdf",
   "metadata": {},
   "outputs": [],
   "source": [
    "def calculate_scores(sentence, log_prior=0, df_vocabulary=df_vocabulary):\n",
    "    lambdas_dict = {k: v for k, v in df_vocabulary[['word', 'lambda']].to_numpy().tolist()}\n",
    "    score = 0\n",
    "    \n",
    "    for word in sentence.split():\n",
    "        score += lambdas_dict.get(word, 0)\n",
    "    return score + log_prior"
   ]
  },
  {
   "cell_type": "markdown",
   "id": "15988406",
   "metadata": {},
   "source": [
    "# Sampled data"
   ]
  },
  {
   "cell_type": "code",
   "execution_count": 111,
   "id": "6e48e46a",
   "metadata": {},
   "outputs": [],
   "source": [
    "df = data.groupby('label').head(1250).reset_index(drop=True)"
   ]
  },
  {
   "cell_type": "code",
   "execution_count": 112,
   "id": "0df836a0",
   "metadata": {},
   "outputs": [],
   "source": [
    "train, test = train_test_split(df, test_size=0.7, random_state=42)"
   ]
  },
  {
   "cell_type": "code",
   "execution_count": 113,
   "id": "ed77d4c6",
   "metadata": {
    "scrolled": false
   },
   "outputs": [],
   "source": [
    "train['adjusted_tweet'] = train['tweet'].apply(adjust_tweet)\n",
    "test['adjusted_tweet'] = test['tweet'].apply(adjust_tweet)\n",
    "\n",
    "pos_vocabulary, neg_vocabulary = build_vocabularies(train, 'label', 'adjusted_tweet')\n",
    "neg_freq = collections.Counter(x for x in neg_vocabulary)\n",
    "pos_freq = collections.Counter(x for x in pos_vocabulary)"
   ]
  },
  {
   "cell_type": "code",
   "execution_count": 114,
   "id": "81f06f0c",
   "metadata": {},
   "outputs": [
    {
     "data": {
      "text/html": [
       "<div>\n",
       "<style scoped>\n",
       "    .dataframe tbody tr th:only-of-type {\n",
       "        vertical-align: middle;\n",
       "    }\n",
       "\n",
       "    .dataframe tbody tr th {\n",
       "        vertical-align: top;\n",
       "    }\n",
       "\n",
       "    .dataframe thead th {\n",
       "        text-align: right;\n",
       "    }\n",
       "</style>\n",
       "<table border=\"1\" class=\"dataframe\">\n",
       "  <thead>\n",
       "    <tr style=\"text-align: right;\">\n",
       "      <th></th>\n",
       "      <th>label</th>\n",
       "      <th>id</th>\n",
       "      <th>data</th>\n",
       "      <th>query</th>\n",
       "      <th>author</th>\n",
       "      <th>tweet</th>\n",
       "      <th>adjusted_tweet</th>\n",
       "    </tr>\n",
       "  </thead>\n",
       "  <tbody>\n",
       "    <tr>\n",
       "      <th>132</th>\n",
       "      <td>0</td>\n",
       "      <td>1467842107</td>\n",
       "      <td>Mon Apr 06 22:28:02 PDT 2009</td>\n",
       "      <td>NO_QUERY</td>\n",
       "      <td>wiccabuffy</td>\n",
       "      <td>@Knights_ No, no notice. They told me I'd be working tomorrow, and then I called the agency to follow up and they said it was over.</td>\n",
       "      <td>notic told id work tomorrow agenc follow said wa</td>\n",
       "    </tr>\n",
       "    <tr>\n",
       "      <th>80</th>\n",
       "      <td>0</td>\n",
       "      <td>1467834053</td>\n",
       "      <td>Mon Apr 06 22:25:52 PDT 2009</td>\n",
       "      <td>NO_QUERY</td>\n",
       "      <td>thelazyboy</td>\n",
       "      <td>sleep soon... i just hate saying bye and see you tomorrow for the night.</td>\n",
       "      <td>sleep soon hate bye tomorrow night</td>\n",
       "    </tr>\n",
       "    <tr>\n",
       "      <th>1586</th>\n",
       "      <td>1</td>\n",
       "      <td>1467881695</td>\n",
       "      <td>Mon Apr 06 22:38:24 PDT 2009</td>\n",
       "      <td>NO_QUERY</td>\n",
       "      <td>JonLanderos</td>\n",
       "      <td>Ahh, the tedium of fixing broken file links in Inventor.  Good times.</td>\n",
       "      <td>ahh tedium fix broken file link inventor good time</td>\n",
       "    </tr>\n",
       "    <tr>\n",
       "      <th>2157</th>\n",
       "      <td>1</td>\n",
       "      <td>1467987805</td>\n",
       "      <td>Mon Apr 06 23:08:11 PDT 2009</td>\n",
       "      <td>NO_QUERY</td>\n",
       "      <td>Tarale</td>\n",
       "      <td>Had a great lunch with one of my &amp;quot;mums&amp;quot; today, @christineirmler  It's her birthday tomorrow too so I got her a little something</td>\n",
       "      <td>great lunch mum today birthday tomorrow got littl someth</td>\n",
       "    </tr>\n",
       "    <tr>\n",
       "      <th>758</th>\n",
       "      <td>0</td>\n",
       "      <td>1467999499</td>\n",
       "      <td>Mon Apr 06 23:11:30 PDT 2009</td>\n",
       "      <td>NO_QUERY</td>\n",
       "      <td>jj_1983</td>\n",
       "      <td>Back at work  @ John Muir Dr http://loopt.us/KoqAbg</td>\n",
       "      <td>work john muir dr</td>\n",
       "    </tr>\n",
       "  </tbody>\n",
       "</table>\n",
       "</div>"
      ],
      "text/plain": [
       "      label          id                          data     query       author  \\\n",
       "132       0  1467842107  Mon Apr 06 22:28:02 PDT 2009  NO_QUERY   wiccabuffy   \n",
       "80        0  1467834053  Mon Apr 06 22:25:52 PDT 2009  NO_QUERY   thelazyboy   \n",
       "1586      1  1467881695  Mon Apr 06 22:38:24 PDT 2009  NO_QUERY  JonLanderos   \n",
       "2157      1  1467987805  Mon Apr 06 23:08:11 PDT 2009  NO_QUERY       Tarale   \n",
       "758       0  1467999499  Mon Apr 06 23:11:30 PDT 2009  NO_QUERY      jj_1983   \n",
       "\n",
       "                                                                                                                                          tweet  \\\n",
       "132        @Knights_ No, no notice. They told me I'd be working tomorrow, and then I called the agency to follow up and they said it was over.    \n",
       "80                                                                    sleep soon... i just hate saying bye and see you tomorrow for the night.    \n",
       "1586                                                                    Ahh, the tedium of fixing broken file links in Inventor.  Good times.     \n",
       "2157  Had a great lunch with one of my &quot;mums&quot; today, @christineirmler  It's her birthday tomorrow too so I got her a little something   \n",
       "758                                                                                         Back at work  @ John Muir Dr http://loopt.us/KoqAbg   \n",
       "\n",
       "                                                adjusted_tweet  \n",
       "132           notic told id work tomorrow agenc follow said wa  \n",
       "80                          sleep soon hate bye tomorrow night  \n",
       "1586        ahh tedium fix broken file link inventor good time  \n",
       "2157  great lunch mum today birthday tomorrow got littl someth  \n",
       "758                                          work john muir dr  "
      ]
     },
     "execution_count": 114,
     "metadata": {},
     "output_type": "execute_result"
    }
   ],
   "source": [
    "train.head()"
   ]
  },
  {
   "cell_type": "code",
   "execution_count": 115,
   "id": "f77cdbe6",
   "metadata": {},
   "outputs": [
    {
     "data": {
      "text/html": [
       "<div>\n",
       "<style scoped>\n",
       "    .dataframe tbody tr th:only-of-type {\n",
       "        vertical-align: middle;\n",
       "    }\n",
       "\n",
       "    .dataframe tbody tr th {\n",
       "        vertical-align: top;\n",
       "    }\n",
       "\n",
       "    .dataframe thead th {\n",
       "        text-align: right;\n",
       "    }\n",
       "</style>\n",
       "<table border=\"1\" class=\"dataframe\">\n",
       "  <thead>\n",
       "    <tr style=\"text-align: right;\">\n",
       "      <th></th>\n",
       "      <th>word</th>\n",
       "      <th>pos_count</th>\n",
       "      <th>neg_count</th>\n",
       "      <th>p_pos</th>\n",
       "      <th>p_neg</th>\n",
       "      <th>ratio</th>\n",
       "      <th>lambda</th>\n",
       "    </tr>\n",
       "  </thead>\n",
       "  <tbody>\n",
       "    <tr>\n",
       "      <th>1325</th>\n",
       "      <td>agenc</td>\n",
       "      <td>0.0</td>\n",
       "      <td>2.0</td>\n",
       "      <td>0.000285</td>\n",
       "      <td>0.000856</td>\n",
       "      <td>0.333333</td>\n",
       "      <td>-1.584963</td>\n",
       "    </tr>\n",
       "    <tr>\n",
       "      <th>1326</th>\n",
       "      <td>bye</td>\n",
       "      <td>0.0</td>\n",
       "      <td>1.0</td>\n",
       "      <td>0.000285</td>\n",
       "      <td>0.000570</td>\n",
       "      <td>0.500000</td>\n",
       "      <td>-1.000000</td>\n",
       "    </tr>\n",
       "    <tr>\n",
       "      <th>1327</th>\n",
       "      <td>john</td>\n",
       "      <td>0.0</td>\n",
       "      <td>2.0</td>\n",
       "      <td>0.000285</td>\n",
       "      <td>0.000856</td>\n",
       "      <td>0.333333</td>\n",
       "      <td>-1.584963</td>\n",
       "    </tr>\n",
       "    <tr>\n",
       "      <th>1328</th>\n",
       "      <td>muir</td>\n",
       "      <td>0.0</td>\n",
       "      <td>1.0</td>\n",
       "      <td>0.000285</td>\n",
       "      <td>0.000570</td>\n",
       "      <td>0.500000</td>\n",
       "      <td>-1.000000</td>\n",
       "    </tr>\n",
       "    <tr>\n",
       "      <th>1329</th>\n",
       "      <td>suck</td>\n",
       "      <td>0.0</td>\n",
       "      <td>5.0</td>\n",
       "      <td>0.000285</td>\n",
       "      <td>0.001711</td>\n",
       "      <td>0.166667</td>\n",
       "      <td>-2.584963</td>\n",
       "    </tr>\n",
       "  </tbody>\n",
       "</table>\n",
       "</div>"
      ],
      "text/plain": [
       "       word  pos_count  neg_count     p_pos     p_neg     ratio    lambda\n",
       "1325  agenc        0.0        2.0  0.000285  0.000856  0.333333 -1.584963\n",
       "1326    bye        0.0        1.0  0.000285  0.000570  0.500000 -1.000000\n",
       "1327   john        0.0        2.0  0.000285  0.000856  0.333333 -1.584963\n",
       "1328   muir        0.0        1.0  0.000285  0.000570  0.500000 -1.000000\n",
       "1329   suck        0.0        5.0  0.000285  0.001711  0.166667 -2.584963"
      ]
     },
     "execution_count": 115,
     "metadata": {},
     "output_type": "execute_result"
    }
   ],
   "source": [
    "df_vocabulary = build_vocabulary()\n",
    "df_vocabulary.loc[df_vocabulary['pos_count'] == 0].head(5)"
   ]
  },
  {
   "cell_type": "code",
   "execution_count": 116,
   "id": "17c9dbc7",
   "metadata": {
    "scrolled": true
   },
   "outputs": [
    {
     "data": {
      "text/html": [
       "<div>\n",
       "<style scoped>\n",
       "    .dataframe tbody tr th:only-of-type {\n",
       "        vertical-align: middle;\n",
       "    }\n",
       "\n",
       "    .dataframe tbody tr th {\n",
       "        vertical-align: top;\n",
       "    }\n",
       "\n",
       "    .dataframe thead th {\n",
       "        text-align: right;\n",
       "    }\n",
       "</style>\n",
       "<table border=\"1\" class=\"dataframe\">\n",
       "  <thead>\n",
       "    <tr style=\"text-align: right;\">\n",
       "      <th></th>\n",
       "      <th>label</th>\n",
       "      <th>id</th>\n",
       "      <th>data</th>\n",
       "      <th>query</th>\n",
       "      <th>author</th>\n",
       "      <th>tweet</th>\n",
       "      <th>adjusted_tweet</th>\n",
       "    </tr>\n",
       "  </thead>\n",
       "  <tbody>\n",
       "    <tr>\n",
       "      <th>132</th>\n",
       "      <td>0</td>\n",
       "      <td>1467842107</td>\n",
       "      <td>Mon Apr 06 22:28:02 PDT 2009</td>\n",
       "      <td>NO_QUERY</td>\n",
       "      <td>wiccabuffy</td>\n",
       "      <td>@Knights_ No, no notice. They told me I'd be working tomorrow, and then I called the agency to follow up and they said it was over.</td>\n",
       "      <td>notic told id work tomorrow agenc follow said wa</td>\n",
       "    </tr>\n",
       "    <tr>\n",
       "      <th>80</th>\n",
       "      <td>0</td>\n",
       "      <td>1467834053</td>\n",
       "      <td>Mon Apr 06 22:25:52 PDT 2009</td>\n",
       "      <td>NO_QUERY</td>\n",
       "      <td>thelazyboy</td>\n",
       "      <td>sleep soon... i just hate saying bye and see you tomorrow for the night.</td>\n",
       "      <td>sleep soon hate bye tomorrow night</td>\n",
       "    </tr>\n",
       "    <tr>\n",
       "      <th>1586</th>\n",
       "      <td>1</td>\n",
       "      <td>1467881695</td>\n",
       "      <td>Mon Apr 06 22:38:24 PDT 2009</td>\n",
       "      <td>NO_QUERY</td>\n",
       "      <td>JonLanderos</td>\n",
       "      <td>Ahh, the tedium of fixing broken file links in Inventor.  Good times.</td>\n",
       "      <td>ahh tedium fix broken file link inventor good time</td>\n",
       "    </tr>\n",
       "    <tr>\n",
       "      <th>2157</th>\n",
       "      <td>1</td>\n",
       "      <td>1467987805</td>\n",
       "      <td>Mon Apr 06 23:08:11 PDT 2009</td>\n",
       "      <td>NO_QUERY</td>\n",
       "      <td>Tarale</td>\n",
       "      <td>Had a great lunch with one of my &amp;quot;mums&amp;quot; today, @christineirmler  It's her birthday tomorrow too so I got her a little something</td>\n",
       "      <td>great lunch mum today birthday tomorrow got littl someth</td>\n",
       "    </tr>\n",
       "    <tr>\n",
       "      <th>758</th>\n",
       "      <td>0</td>\n",
       "      <td>1467999499</td>\n",
       "      <td>Mon Apr 06 23:11:30 PDT 2009</td>\n",
       "      <td>NO_QUERY</td>\n",
       "      <td>jj_1983</td>\n",
       "      <td>Back at work  @ John Muir Dr http://loopt.us/KoqAbg</td>\n",
       "      <td>work john muir dr</td>\n",
       "    </tr>\n",
       "  </tbody>\n",
       "</table>\n",
       "</div>"
      ],
      "text/plain": [
       "      label          id                          data     query       author  \\\n",
       "132       0  1467842107  Mon Apr 06 22:28:02 PDT 2009  NO_QUERY   wiccabuffy   \n",
       "80        0  1467834053  Mon Apr 06 22:25:52 PDT 2009  NO_QUERY   thelazyboy   \n",
       "1586      1  1467881695  Mon Apr 06 22:38:24 PDT 2009  NO_QUERY  JonLanderos   \n",
       "2157      1  1467987805  Mon Apr 06 23:08:11 PDT 2009  NO_QUERY       Tarale   \n",
       "758       0  1467999499  Mon Apr 06 23:11:30 PDT 2009  NO_QUERY      jj_1983   \n",
       "\n",
       "                                                                                                                                          tweet  \\\n",
       "132        @Knights_ No, no notice. They told me I'd be working tomorrow, and then I called the agency to follow up and they said it was over.    \n",
       "80                                                                    sleep soon... i just hate saying bye and see you tomorrow for the night.    \n",
       "1586                                                                    Ahh, the tedium of fixing broken file links in Inventor.  Good times.     \n",
       "2157  Had a great lunch with one of my &quot;mums&quot; today, @christineirmler  It's her birthday tomorrow too so I got her a little something   \n",
       "758                                                                                         Back at work  @ John Muir Dr http://loopt.us/KoqAbg   \n",
       "\n",
       "                                                adjusted_tweet  \n",
       "132           notic told id work tomorrow agenc follow said wa  \n",
       "80                          sleep soon hate bye tomorrow night  \n",
       "1586        ahh tedium fix broken file link inventor good time  \n",
       "2157  great lunch mum today birthday tomorrow got littl someth  \n",
       "758                                          work john muir dr  "
      ]
     },
     "execution_count": 116,
     "metadata": {},
     "output_type": "execute_result"
    }
   ],
   "source": [
    "train.head()"
   ]
  },
  {
   "cell_type": "code",
   "execution_count": 138,
   "id": "77d94bd7",
   "metadata": {},
   "outputs": [],
   "source": [
    "log_prior = np.log(train.loc[train['label'] == 1].shape[0] / train.loc[train['label'] == 0].shape[0])\n",
    "test['score'] = test['adjusted_tweet'].apply(calculate_scores, (log_prior))\n",
    "test['pred'] = (test['score'] > 0).astype(int)"
   ]
  },
  {
   "cell_type": "code",
   "execution_count": 139,
   "id": "229df504",
   "metadata": {},
   "outputs": [
    {
     "data": {
      "image/png": "[encoded data removed]",
      "text/plain": [
       "<Figure size 432x432 with 1 Axes>"
      ]
     },
     "metadata": {
      "needs_background": "light"
     },
     "output_type": "display_data"
    }
   ],
   "source": [
    "conf_mat = confusion_matrix(test['label'], test['pred'])\n",
    "fig, ax = plot_confusion_matrix(conf_mat=conf_mat, figsize=(6, 6), cmap=plt.cm.Greens)\n",
    "plt.xlabel('Predictions', fontsize=18)\n",
    "plt.ylabel('Actuals', fontsize=18)\n",
    "plt.title('Confusion Matrix', fontsize=18)\n",
    "plt.show()\n"
   ]
  },
  {
   "cell_type": "code",
   "execution_count": 140,
   "id": "b5b6d2de",
   "metadata": {},
   "outputs": [
    {
     "data": {
      "text/plain": [
       "0.6342857142857142"
      ]
     },
     "execution_count": 140,
     "metadata": {},
     "output_type": "execute_result"
    }
   ],
   "source": [
    "logreg=accuracy_score(test['label'], test['pred'])\n",
    "logreg"
   ]
  },
  {
   "cell_type": "code",
   "execution_count": 141,
   "id": "0604b232",
   "metadata": {},
   "outputs": [
    {
     "data": {
      "text/plain": [
       "0.6344224781091304"
      ]
     },
     "execution_count": 141,
     "metadata": {},
     "output_type": "execute_result"
    }
   ],
   "source": [
    "roc_auc_score(test['label'], test['pred'])"
   ]
  },
  {
   "cell_type": "code",
   "execution_count": 142,
   "id": "cfcb8e23",
   "metadata": {},
   "outputs": [
    {
     "name": "stdout",
     "output_type": "stream",
     "text": [
      "              precision    recall  f1-score   support\n",
      "\n",
      "           0       0.62      0.67      0.65       872\n",
      "           1       0.65      0.59      0.62       878\n",
      "\n",
      "    accuracy                           0.63      1750\n",
      "   macro avg       0.64      0.63      0.63      1750\n",
      "weighted avg       0.64      0.63      0.63      1750\n",
      "\n"
     ]
    }
   ],
   "source": [
    "print(metrics.classification_report(test['label'], test['pred']))"
   ]
  },
  {
   "cell_type": "markdown",
   "id": "d2694baf",
   "metadata": {},
   "source": [
    "# Using all data"
   ]
  },
  {
   "cell_type": "code",
   "execution_count": 143,
   "id": "aa70b1a7",
   "metadata": {},
   "outputs": [
    {
     "data": {
      "text/plain": [
       "0    800000\n",
       "1    800000\n",
       "Name: label, dtype: int64"
      ]
     },
     "execution_count": 143,
     "metadata": {},
     "output_type": "execute_result"
    }
   ],
   "source": [
    "df = data\n",
    "df.label.value_counts()"
   ]
  },
  {
   "cell_type": "code",
   "execution_count": 144,
   "id": "4c228d4b",
   "metadata": {},
   "outputs": [],
   "source": [
    "train, test = train_test_split(df, test_size=0.7, random_state=42)\n",
    "\n",
    "train['adjusted_tweet'] = train['tweet'].apply(adjust_tweet)\n",
    "test['adjusted_tweet'] = test['tweet'].apply(adjust_tweet)\n",
    "\n",
    "pos_vocabulary, neg_vocabulary = build_vocabularies(train, 'label', 'adjusted_tweet')\n",
    "neg_freq = collections.Counter(x for x in neg_vocabulary)\n",
    "pos_freq = collections.Counter(x for x in pos_vocabulary)"
   ]
  },
  {
   "cell_type": "code",
   "execution_count": 145,
   "id": "d25fd021",
   "metadata": {},
   "outputs": [],
   "source": [
    "log_prior = np.log(train.loc[train['label'] == 1].shape[0] / train.loc[train['label'] == 0].shape[0])\n",
    "test['score'] = test['adjusted_tweet'].apply(calculate_scores, (log_prior))\n",
    "test['pred'] = (test['score'] > 0).astype(int)"
   ]
  },
  {
   "cell_type": "code",
   "execution_count": 146,
   "id": "dfb84df4",
   "metadata": {},
   "outputs": [
    {
     "data": {
      "image/png": "[encoded data removed]",
      "text/plain": [
       "<Figure size 432x432 with 1 Axes>"
      ]
     },
     "metadata": {
      "needs_background": "light"
     },
     "output_type": "display_data"
    }
   ],
   "source": [
    "conf_mat = confusion_matrix(test['label'], test['pred'])\n",
    "fig, ax = plot_confusion_matrix(conf_mat=conf_mat, figsize=(6, 6), cmap=plt.cm.Greens)\n",
    "plt.xlabel('Predictions', fontsize=18)\n",
    "plt.ylabel('Actuals', fontsize=18)\n",
    "plt.title('Confusion Matrix', fontsize=18)\n",
    "plt.show()"
   ]
  },
  {
   "cell_type": "code",
   "execution_count": 147,
   "id": "a1b3fc9e",
   "metadata": {},
   "outputs": [
    {
     "data": {
      "text/plain": [
       "0.6456125"
      ]
     },
     "execution_count": 147,
     "metadata": {},
     "output_type": "execute_result"
    }
   ],
   "source": [
    "logreg=accuracy_score(test['label'], test['pred'])\n",
    "logreg"
   ]
  },
  {
   "cell_type": "code",
   "execution_count": 148,
   "id": "6edd90f0",
   "metadata": {},
   "outputs": [
    {
     "data": {
      "text/plain": [
       "0.6456047615865833"
      ]
     },
     "execution_count": 148,
     "metadata": {},
     "output_type": "execute_result"
    }
   ],
   "source": [
    "roc_auc_score(test['label'], test['pred'])"
   ]
  },
  {
   "cell_type": "code",
   "execution_count": 149,
   "id": "84c46d40",
   "metadata": {},
   "outputs": [
    {
     "name": "stdout",
     "output_type": "stream",
     "text": [
      "              precision    recall  f1-score   support\n",
      "\n",
      "           0       0.64      0.67      0.65    560196\n",
      "           1       0.65      0.62      0.64    559804\n",
      "\n",
      "    accuracy                           0.65   1120000\n",
      "   macro avg       0.65      0.65      0.65   1120000\n",
      "weighted avg       0.65      0.65      0.65   1120000\n",
      "\n"
     ]
    }
   ],
   "source": [
    "print(metrics.classification_report(test['label'], test['pred']))"
   ]
  }
 ],
 "metadata": {
  "kernelspec": {
   "display_name": "Python 3 (ipykernel)",
   "language": "python",
   "name": "python3"
  },
  "language_info": {
   "codemirror_mode": {
    "name": "ipython",
    "version": 3
   },
   "file_extension": ".py",
   "mimetype": "text/x-python",
   "name": "python",
   "nbconvert_exporter": "python",
   "pygments_lexer": "ipython3",
   "version": "3.9.10"
  }
 },
 "nbformat": 4,
 "nbformat_minor": 5
}
