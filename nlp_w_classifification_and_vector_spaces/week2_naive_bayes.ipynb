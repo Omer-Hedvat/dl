{
 "cells": [
  {
   "cell_type": "code",
   "execution_count": 118,
   "id": "e2e96745",
   "metadata": {},
   "outputs": [],
   "source": [
    "import collections\n",
    "import numpy as np\n",
    "import pandas as pd\n",
    "import re\n",
    "\n",
    "import matplotlib.pyplot as plt\n",
    "from mlxtend.plotting import plot_confusion_matrix\n",
    "from sklearn.linear_model import LogisticRegression\n",
    "import sklearn.metrics as metrics\n",
    "from sklearn.metrics import confusion_matrix, accuracy_score, roc_auc_score\n",
    "from sklearn.model_selection import train_test_split\n",
    "from sklearn.preprocessing import StandardScaler\n",
    "\n",
    "from nltk.stem import PorterStemmer\n",
    "from nltk.tokenize import word_tokenize"
   ]
  },
  {
   "cell_type": "code",
   "execution_count": 194,
   "id": "ad6d0e21",
   "metadata": {},
   "outputs": [],
   "source": [
    "data = pd.read_csv('../data/twitter_sentiment_analysis_data_raw.csv', encoding='latin-1', names=['label', 'id', 'data', 'query', 'author', 'tweet'])"
   ]
  },
  {
   "cell_type": "code",
   "execution_count": 195,
   "id": "2df6d13b",
   "metadata": {},
   "outputs": [
    {
     "data": {
      "text/plain": [
       "0    800000\n",
       "1    800000\n",
       "Name: label, dtype: int64"
      ]
     },
     "execution_count": 195,
     "metadata": {},
     "output_type": "execute_result"
    }
   ],
   "source": [
    "data.loc[data['label']==4, 'label'] = 1\n",
    "data.label.value_counts()"
   ]
  },
  {
   "cell_type": "code",
   "execution_count": 108,
   "id": "bc3e7920",
   "metadata": {},
   "outputs": [
    {
     "data": {
      "text/html": [
       "<div>\n",
       "<style scoped>\n",
       "    .dataframe tbody tr th:only-of-type {\n",
       "        vertical-align: middle;\n",
       "    }\n",
       "\n",
       "    .dataframe tbody tr th {\n",
       "        vertical-align: top;\n",
       "    }\n",
       "\n",
       "    .dataframe thead th {\n",
       "        text-align: right;\n",
       "    }\n",
       "</style>\n",
       "<table border=\"1\" class=\"dataframe\">\n",
       "  <thead>\n",
       "    <tr style=\"text-align: right;\">\n",
       "      <th></th>\n",
       "      <th>label</th>\n",
       "      <th>id</th>\n",
       "      <th>data</th>\n",
       "      <th>query</th>\n",
       "      <th>author</th>\n",
       "      <th>tweet</th>\n",
       "      <th>adjusted_tweets</th>\n",
       "    </tr>\n",
       "  </thead>\n",
       "  <tbody>\n",
       "    <tr>\n",
       "      <th>0</th>\n",
       "      <td>0</td>\n",
       "      <td>1467810369</td>\n",
       "      <td>Mon Apr 06 22:19:45 PDT 2009</td>\n",
       "      <td>NO_QUERY</td>\n",
       "      <td>_TheSpecialOne_</td>\n",
       "      <td>@switchfoot http://twitpic.com/2y1zl - Awww, t...</td>\n",
       "      <td>- a thats a bummer  you shoulda got david ca...</td>\n",
       "    </tr>\n",
       "    <tr>\n",
       "      <th>1</th>\n",
       "      <td>0</td>\n",
       "      <td>1467810672</td>\n",
       "      <td>Mon Apr 06 22:19:49 PDT 2009</td>\n",
       "      <td>NO_QUERY</td>\n",
       "      <td>scotthamilton</td>\n",
       "      <td>is upset that he can't update his Facebook by ...</td>\n",
       "      <td>is upset that he cant update his facebook by t...</td>\n",
       "    </tr>\n",
       "    <tr>\n",
       "      <th>2</th>\n",
       "      <td>0</td>\n",
       "      <td>1467810917</td>\n",
       "      <td>Mon Apr 06 22:19:53 PDT 2009</td>\n",
       "      <td>NO_QUERY</td>\n",
       "      <td>mattycus</td>\n",
       "      <td>@Kenichan I dived many times for the ball. Man...</td>\n",
       "      <td>i dived many times for the ball managed to sa...</td>\n",
       "    </tr>\n",
       "    <tr>\n",
       "      <th>3</th>\n",
       "      <td>0</td>\n",
       "      <td>1467811184</td>\n",
       "      <td>Mon Apr 06 22:19:57 PDT 2009</td>\n",
       "      <td>NO_QUERY</td>\n",
       "      <td>ElleCTF</td>\n",
       "      <td>my whole body feels itchy and like its on fire</td>\n",
       "      <td>my whole body feels itchy and like its on fire</td>\n",
       "    </tr>\n",
       "    <tr>\n",
       "      <th>4</th>\n",
       "      <td>0</td>\n",
       "      <td>1467811193</td>\n",
       "      <td>Mon Apr 06 22:19:57 PDT 2009</td>\n",
       "      <td>NO_QUERY</td>\n",
       "      <td>Karoli</td>\n",
       "      <td>@nationwideclass no, it's not behaving at all....</td>\n",
       "      <td>no its not behav at all im mad why am i here ...</td>\n",
       "    </tr>\n",
       "  </tbody>\n",
       "</table>\n",
       "</div>"
      ],
      "text/plain": [
       "   label          id                          data     query           author  \\\n",
       "0      0  1467810369  Mon Apr 06 22:19:45 PDT 2009  NO_QUERY  _TheSpecialOne_   \n",
       "1      0  1467810672  Mon Apr 06 22:19:49 PDT 2009  NO_QUERY    scotthamilton   \n",
       "2      0  1467810917  Mon Apr 06 22:19:53 PDT 2009  NO_QUERY         mattycus   \n",
       "3      0  1467811184  Mon Apr 06 22:19:57 PDT 2009  NO_QUERY          ElleCTF   \n",
       "4      0  1467811193  Mon Apr 06 22:19:57 PDT 2009  NO_QUERY           Karoli   \n",
       "\n",
       "                                               tweet  \\\n",
       "0  @switchfoot http://twitpic.com/2y1zl - Awww, t...   \n",
       "1  is upset that he can't update his Facebook by ...   \n",
       "2  @Kenichan I dived many times for the ball. Man...   \n",
       "3    my whole body feels itchy and like its on fire    \n",
       "4  @nationwideclass no, it's not behaving at all....   \n",
       "\n",
       "                                     adjusted_tweets  \n",
       "0    - a thats a bummer  you shoulda got david ca...  \n",
       "1  is upset that he cant update his facebook by t...  \n",
       "2   i dived many times for the ball managed to sa...  \n",
       "3    my whole body feels itchy and like its on fire   \n",
       "4   no its not behav at all im mad why am i here ...  "
      ]
     },
     "execution_count": 108,
     "metadata": {},
     "output_type": "execute_result"
    }
   ],
   "source": [
    "data.head()"
   ]
  },
  {
   "cell_type": "code",
   "execution_count": 157,
   "id": "8d49f641",
   "metadata": {},
   "outputs": [
    {
     "data": {
      "text/html": [
       "<div>\n",
       "<style scoped>\n",
       "    .dataframe tbody tr th:only-of-type {\n",
       "        vertical-align: middle;\n",
       "    }\n",
       "\n",
       "    .dataframe tbody tr th {\n",
       "        vertical-align: top;\n",
       "    }\n",
       "\n",
       "    .dataframe thead th {\n",
       "        text-align: right;\n",
       "    }\n",
       "</style>\n",
       "<table border=\"1\" class=\"dataframe\">\n",
       "  <thead>\n",
       "    <tr style=\"text-align: right;\">\n",
       "      <th></th>\n",
       "      <th>label</th>\n",
       "      <th>id</th>\n",
       "      <th>data</th>\n",
       "      <th>query</th>\n",
       "      <th>author</th>\n",
       "      <th>tweet</th>\n",
       "      <th>adjusted_tweets</th>\n",
       "    </tr>\n",
       "  </thead>\n",
       "  <tbody>\n",
       "    <tr>\n",
       "      <th>132</th>\n",
       "      <td>0</td>\n",
       "      <td>1467842107</td>\n",
       "      <td>Mon Apr 06 22:28:02 PDT 2009</td>\n",
       "      <td>NO_QUERY</td>\n",
       "      <td>wiccabuffy</td>\n",
       "      <td>@Knights_ No, no notice. They told me I'd be working tomorrow, and then I called the agency to follow up and they said it was over.</td>\n",
       "      <td>look like i'v miss out on yet anoth job someon pleas employ me! haha</td>\n",
       "    </tr>\n",
       "    <tr>\n",
       "      <th>80</th>\n",
       "      <td>0</td>\n",
       "      <td>1467834053</td>\n",
       "      <td>Mon Apr 06 22:25:52 PDT 2009</td>\n",
       "      <td>NO_QUERY</td>\n",
       "      <td>thelazyboy</td>\n",
       "      <td>sleep soon... i just hate saying bye and see you tomorrow for the night.</td>\n",
       "      <td>lose time</td>\n",
       "    </tr>\n",
       "    <tr>\n",
       "      <th>1586</th>\n",
       "      <td>1</td>\n",
       "      <td>1467881695</td>\n",
       "      <td>Mon Apr 06 22:38:24 PDT 2009</td>\n",
       "      <td>NO_QUERY</td>\n",
       "      <td>JonLanderos</td>\n",
       "      <td>Ahh, the tedium of fixing broken file links in Inventor.  Good times.</td>\n",
       "      <td>NaN</td>\n",
       "    </tr>\n",
       "    <tr>\n",
       "      <th>2157</th>\n",
       "      <td>1</td>\n",
       "      <td>1467987805</td>\n",
       "      <td>Mon Apr 06 23:08:11 PDT 2009</td>\n",
       "      <td>NO_QUERY</td>\n",
       "      <td>Tarale</td>\n",
       "      <td>Had a great lunch with one of my &amp;quot;mums&amp;quot; today, @christineirmler  It's her birthday tomorrow too so I got her a little something</td>\n",
       "      <td>NaN</td>\n",
       "    </tr>\n",
       "    <tr>\n",
       "      <th>758</th>\n",
       "      <td>0</td>\n",
       "      <td>1467999499</td>\n",
       "      <td>Mon Apr 06 23:11:30 PDT 2009</td>\n",
       "      <td>NO_QUERY</td>\n",
       "      <td>jj_1983</td>\n",
       "      <td>Back at work  @ John Muir Dr http://loopt.us/KoqAbg</td>\n",
       "      <td>NaN</td>\n",
       "    </tr>\n",
       "  </tbody>\n",
       "</table>\n",
       "</div>"
      ],
      "text/plain": [
       "      label          id                          data     query       author  \\\n",
       "132       0  1467842107  Mon Apr 06 22:28:02 PDT 2009  NO_QUERY   wiccabuffy   \n",
       "80        0  1467834053  Mon Apr 06 22:25:52 PDT 2009  NO_QUERY   thelazyboy   \n",
       "1586      1  1467881695  Mon Apr 06 22:38:24 PDT 2009  NO_QUERY  JonLanderos   \n",
       "2157      1  1467987805  Mon Apr 06 23:08:11 PDT 2009  NO_QUERY       Tarale   \n",
       "758       0  1467999499  Mon Apr 06 23:11:30 PDT 2009  NO_QUERY      jj_1983   \n",
       "\n",
       "                                                                                                                                          tweet  \\\n",
       "132        @Knights_ No, no notice. They told me I'd be working tomorrow, and then I called the agency to follow up and they said it was over.    \n",
       "80                                                                    sleep soon... i just hate saying bye and see you tomorrow for the night.    \n",
       "1586                                                                    Ahh, the tedium of fixing broken file links in Inventor.  Good times.     \n",
       "2157  Had a great lunch with one of my &quot;mums&quot; today, @christineirmler  It's her birthday tomorrow too so I got her a little something   \n",
       "758                                                                                         Back at work  @ John Muir Dr http://loopt.us/KoqAbg   \n",
       "\n",
       "                                                           adjusted_tweets  \n",
       "132   look like i'v miss out on yet anoth job someon pleas employ me! haha  \n",
       "80                                                               lose time  \n",
       "1586                                                                   NaN  \n",
       "2157                                                                   NaN  \n",
       "758                                                                    NaN  "
      ]
     },
     "execution_count": 157,
     "metadata": {},
     "output_type": "execute_result"
    }
   ],
   "source": [
    "train.head()"
   ]
  },
  {
   "cell_type": "code",
   "execution_count": 162,
   "id": "690dac53",
   "metadata": {},
   "outputs": [
    {
     "data": {
      "text/html": [
       "<div>\n",
       "<style scoped>\n",
       "    .dataframe tbody tr th:only-of-type {\n",
       "        vertical-align: middle;\n",
       "    }\n",
       "\n",
       "    .dataframe tbody tr th {\n",
       "        vertical-align: top;\n",
       "    }\n",
       "\n",
       "    .dataframe thead th {\n",
       "        text-align: right;\n",
       "    }\n",
       "</style>\n",
       "<table border=\"1\" class=\"dataframe\">\n",
       "  <thead>\n",
       "    <tr style=\"text-align: right;\">\n",
       "      <th></th>\n",
       "      <th>label</th>\n",
       "      <th>id</th>\n",
       "      <th>data</th>\n",
       "      <th>query</th>\n",
       "      <th>author</th>\n",
       "      <th>tweet</th>\n",
       "      <th>adjusted_tweets</th>\n",
       "      <th>adjusted_tweet</th>\n",
       "    </tr>\n",
       "  </thead>\n",
       "  <tbody>\n",
       "    <tr>\n",
       "      <th>132</th>\n",
       "      <td>0</td>\n",
       "      <td>1467842107</td>\n",
       "      <td>Mon Apr 06 22:28:02 PDT 2009</td>\n",
       "      <td>NO_QUERY</td>\n",
       "      <td>wiccabuffy</td>\n",
       "      <td>@Knights_ No, no notice. They told me I'd be working tomorrow, and then I called the agency to follow up and they said it was over.</td>\n",
       "      <td>look like i'v miss out on yet anoth job someon pleas employ me! haha</td>\n",
       "      <td>notice told tomorrow called agency follow</td>\n",
       "    </tr>\n",
       "    <tr>\n",
       "      <th>80</th>\n",
       "      <td>0</td>\n",
       "      <td>1467834053</td>\n",
       "      <td>Mon Apr 06 22:25:52 PDT 2009</td>\n",
       "      <td>NO_QUERY</td>\n",
       "      <td>thelazyboy</td>\n",
       "      <td>sleep soon... i just hate saying bye and see you tomorrow for the night.</td>\n",
       "      <td>lose time</td>\n",
       "      <td>sleep hate bye tomorrow night</td>\n",
       "    </tr>\n",
       "    <tr>\n",
       "      <th>1586</th>\n",
       "      <td>1</td>\n",
       "      <td>1467881695</td>\n",
       "      <td>Mon Apr 06 22:38:24 PDT 2009</td>\n",
       "      <td>NO_QUERY</td>\n",
       "      <td>JonLanderos</td>\n",
       "      <td>Ahh, the tedium of fixing broken file links in Inventor.  Good times.</td>\n",
       "      <td>NaN</td>\n",
       "      <td>ahh tedium broken file links inventor times</td>\n",
       "    </tr>\n",
       "    <tr>\n",
       "      <th>2157</th>\n",
       "      <td>1</td>\n",
       "      <td>1467987805</td>\n",
       "      <td>Mon Apr 06 23:08:11 PDT 2009</td>\n",
       "      <td>NO_QUERY</td>\n",
       "      <td>Tarale</td>\n",
       "      <td>Had a great lunch with one of my &amp;quot;mums&amp;quot; today, @christineirmler  It's her birthday tomorrow too so I got her a little something</td>\n",
       "      <td>NaN</td>\n",
       "      <td>lunch mums birthday tomorrow someth</td>\n",
       "    </tr>\n",
       "    <tr>\n",
       "      <th>758</th>\n",
       "      <td>0</td>\n",
       "      <td>1467999499</td>\n",
       "      <td>Mon Apr 06 23:11:30 PDT 2009</td>\n",
       "      <td>NO_QUERY</td>\n",
       "      <td>jj_1983</td>\n",
       "      <td>Back at work  @ John Muir Dr http://loopt.us/KoqAbg</td>\n",
       "      <td>NaN</td>\n",
       "      <td>john muir dr</td>\n",
       "    </tr>\n",
       "  </tbody>\n",
       "</table>\n",
       "</div>"
      ],
      "text/plain": [
       "      label          id                          data     query       author  \\\n",
       "132       0  1467842107  Mon Apr 06 22:28:02 PDT 2009  NO_QUERY   wiccabuffy   \n",
       "80        0  1467834053  Mon Apr 06 22:25:52 PDT 2009  NO_QUERY   thelazyboy   \n",
       "1586      1  1467881695  Mon Apr 06 22:38:24 PDT 2009  NO_QUERY  JonLanderos   \n",
       "2157      1  1467987805  Mon Apr 06 23:08:11 PDT 2009  NO_QUERY       Tarale   \n",
       "758       0  1467999499  Mon Apr 06 23:11:30 PDT 2009  NO_QUERY      jj_1983   \n",
       "\n",
       "                                                                                                                                          tweet  \\\n",
       "132        @Knights_ No, no notice. They told me I'd be working tomorrow, and then I called the agency to follow up and they said it was over.    \n",
       "80                                                                    sleep soon... i just hate saying bye and see you tomorrow for the night.    \n",
       "1586                                                                    Ahh, the tedium of fixing broken file links in Inventor.  Good times.     \n",
       "2157  Had a great lunch with one of my &quot;mums&quot; today, @christineirmler  It's her birthday tomorrow too so I got her a little something   \n",
       "758                                                                                         Back at work  @ John Muir Dr http://loopt.us/KoqAbg   \n",
       "\n",
       "                                                           adjusted_tweets  \\\n",
       "132   look like i'v miss out on yet anoth job someon pleas employ me! haha   \n",
       "80                                                               lose time   \n",
       "1586                                                                   NaN   \n",
       "2157                                                                   NaN   \n",
       "758                                                                    NaN   \n",
       "\n",
       "                                   adjusted_tweet  \n",
       "132     notice told tomorrow called agency follow  \n",
       "80                  sleep hate bye tomorrow night  \n",
       "1586  ahh tedium broken file links inventor times  \n",
       "2157          lunch mums birthday tomorrow someth  \n",
       "758                                  john muir dr  "
      ]
     },
     "execution_count": 162,
     "metadata": {},
     "output_type": "execute_result"
    }
   ],
   "source": [
    "train.head()"
   ]
  },
  {
   "cell_type": "code",
   "execution_count": 174,
   "id": "c9d73a02",
   "metadata": {},
   "outputs": [],
   "source": [
    "def adjust_tweet(sentence):\n",
    "    re_punctuations = r\"\"\",|'|\\.|!|\\?|&|\"|:|[|]|;|quot|\\\\/|ing|\\\\(|\\\\)|http\\S+|www\\S+|@\\S+|.com\\S+|-|_|=|\\+\"\"\"\n",
    "    words_list = re.sub(re_punctuations, \"\", sentence.lower()).split()\n",
    "    adjusted_words_list = [\n",
    "        word for word in words_list\n",
    "        if len(word) > 1 and re.sub(re_punctuations,'', word) not in stop_words\n",
    "    ]\n",
    "    return ' '.join(adjusted_words_list)"
   ]
  },
  {
   "cell_type": "markdown",
   "id": "15988406",
   "metadata": {},
   "source": [
    "# Sampled data"
   ]
  },
  {
   "cell_type": "code",
   "execution_count": 123,
   "id": "6e48e46a",
   "metadata": {},
   "outputs": [],
   "source": [
    "df = data.groupby('label').head(1250).reset_index(drop=True)"
   ]
  },
  {
   "cell_type": "code",
   "execution_count": 175,
   "id": "0df836a0",
   "metadata": {},
   "outputs": [],
   "source": [
    "train, test = train_test_split(df, test_size=0.7, random_state=42)"
   ]
  },
  {
   "cell_type": "code",
   "execution_count": 176,
   "id": "81ee9f37",
   "metadata": {},
   "outputs": [],
   "source": [
    "def txt_to_list(file_name):\n",
    "    my_file = open(file_name, \"r\", encoding=\"utf8\")\n",
    "    content_list = [line.rstrip('\\n') for line in my_file.readlines()]\n",
    "    return content_list\n",
    "\n",
    "def build_vocabularies(data, label_col, sentence_col):\n",
    "    pos_vocabulary = [\n",
    "        word\n",
    "        for tweet in data.loc[data[label_col]==1, sentence_col].values.tolist() \n",
    "        for word in tweet.split(' ') \n",
    "    ]\n",
    "    \n",
    "    neg_vocabulary = [\n",
    "        word\n",
    "        for tweet in data.loc[data[label_col]==0, sentence_col].values.tolist() \n",
    "        for word in tweet.split(' ') \n",
    "    ]\n",
    "\n",
    "    return pos_vocabulary, neg_vocabulary    "
   ]
  },
  {
   "cell_type": "code",
   "execution_count": 180,
   "id": "ed77d4c6",
   "metadata": {
    "scrolled": false
   },
   "outputs": [],
   "source": [
    "train['adjusted_tweet'] = train['tweet'].apply(adjust_tweet)\n",
    "test['adjusted_tweet'] = test['tweet'].apply(adjust_tweet)\n",
    "\n",
    "pos_vocabulary, neg_vocabulary = build_vocabularies(train, 'label', 'adjusted_tweet')\n",
    "neg_freq = collections.Counter(x for x in neg_vocabulary)\n",
    "pos_freq = collections.Counter(x for x in pos_vocabulary)"
   ]
  },
  {
   "cell_type": "code",
   "execution_count": 181,
   "id": "f77cdbe6",
   "metadata": {},
   "outputs": [
    {
     "data": {
      "text/html": [
       "<div>\n",
       "<style scoped>\n",
       "    .dataframe tbody tr th:only-of-type {\n",
       "        vertical-align: middle;\n",
       "    }\n",
       "\n",
       "    .dataframe tbody tr th {\n",
       "        vertical-align: top;\n",
       "    }\n",
       "\n",
       "    .dataframe thead th {\n",
       "        text-align: right;\n",
       "    }\n",
       "</style>\n",
       "<table border=\"1\" class=\"dataframe\">\n",
       "  <thead>\n",
       "    <tr style=\"text-align: right;\">\n",
       "      <th></th>\n",
       "      <th>word</th>\n",
       "      <th>pos_count</th>\n",
       "      <th>neg_count</th>\n",
       "      <th>p_pos</th>\n",
       "      <th>p_neg</th>\n",
       "      <th>ratio</th>\n",
       "      <th>lambda</th>\n",
       "    </tr>\n",
       "  </thead>\n",
       "  <tbody>\n",
       "    <tr>\n",
       "      <th>1514</th>\n",
       "      <td>agency</td>\n",
       "      <td>0.0</td>\n",
       "      <td>2.0</td>\n",
       "      <td>0.000249</td>\n",
       "      <td>0.000747</td>\n",
       "      <td>0.333333</td>\n",
       "      <td>-1.584963</td>\n",
       "    </tr>\n",
       "    <tr>\n",
       "      <th>1515</th>\n",
       "      <td>bye</td>\n",
       "      <td>0.0</td>\n",
       "      <td>1.0</td>\n",
       "      <td>0.000249</td>\n",
       "      <td>0.000498</td>\n",
       "      <td>0.500000</td>\n",
       "      <td>-1.000000</td>\n",
       "    </tr>\n",
       "    <tr>\n",
       "      <th>1516</th>\n",
       "      <td>john</td>\n",
       "      <td>0.0</td>\n",
       "      <td>1.0</td>\n",
       "      <td>0.000249</td>\n",
       "      <td>0.000498</td>\n",
       "      <td>0.500000</td>\n",
       "      <td>-1.000000</td>\n",
       "    </tr>\n",
       "    <tr>\n",
       "      <th>1517</th>\n",
       "      <td>muir</td>\n",
       "      <td>0.0</td>\n",
       "      <td>1.0</td>\n",
       "      <td>0.000249</td>\n",
       "      <td>0.000498</td>\n",
       "      <td>0.500000</td>\n",
       "      <td>-1.000000</td>\n",
       "    </tr>\n",
       "    <tr>\n",
       "      <th>1518</th>\n",
       "      <td>sucks</td>\n",
       "      <td>0.0</td>\n",
       "      <td>2.0</td>\n",
       "      <td>0.000249</td>\n",
       "      <td>0.000747</td>\n",
       "      <td>0.333333</td>\n",
       "      <td>-1.584963</td>\n",
       "    </tr>\n",
       "    <tr>\n",
       "      <th>1519</th>\n",
       "      <td>xbox</td>\n",
       "      <td>0.0</td>\n",
       "      <td>1.0</td>\n",
       "      <td>0.000249</td>\n",
       "      <td>0.000498</td>\n",
       "      <td>0.500000</td>\n",
       "      <td>-1.000000</td>\n",
       "    </tr>\n",
       "    <tr>\n",
       "      <th>1520</th>\n",
       "      <td>360</td>\n",
       "      <td>0.0</td>\n",
       "      <td>1.0</td>\n",
       "      <td>0.000249</td>\n",
       "      <td>0.000498</td>\n",
       "      <td>0.500000</td>\n",
       "      <td>-1.000000</td>\n",
       "    </tr>\n",
       "    <tr>\n",
       "      <th>1521</th>\n",
       "      <td>fancast</td>\n",
       "      <td>0.0</td>\n",
       "      <td>1.0</td>\n",
       "      <td>0.000249</td>\n",
       "      <td>0.000498</td>\n",
       "      <td>0.500000</td>\n",
       "      <td>-1.000000</td>\n",
       "    </tr>\n",
       "    <tr>\n",
       "      <th>1522</th>\n",
       "      <td>tonite</td>\n",
       "      <td>0.0</td>\n",
       "      <td>2.0</td>\n",
       "      <td>0.000249</td>\n",
       "      <td>0.000747</td>\n",
       "      <td>0.333333</td>\n",
       "      <td>-1.584963</td>\n",
       "    </tr>\n",
       "    <tr>\n",
       "      <th>1523</th>\n",
       "      <td>favenot</td>\n",
       "      <td>0.0</td>\n",
       "      <td>1.0</td>\n",
       "      <td>0.000249</td>\n",
       "      <td>0.000498</td>\n",
       "      <td>0.500000</td>\n",
       "      <td>-1.000000</td>\n",
       "    </tr>\n",
       "    <tr>\n",
       "      <th>1524</th>\n",
       "      <td>concentrate</td>\n",
       "      <td>0.0</td>\n",
       "      <td>1.0</td>\n",
       "      <td>0.000249</td>\n",
       "      <td>0.000498</td>\n",
       "      <td>0.500000</td>\n",
       "      <td>-1.000000</td>\n",
       "    </tr>\n",
       "    <tr>\n",
       "      <th>1525</th>\n",
       "      <td>awake</td>\n",
       "      <td>0.0</td>\n",
       "      <td>2.0</td>\n",
       "      <td>0.000249</td>\n",
       "      <td>0.000747</td>\n",
       "      <td>0.333333</td>\n",
       "      <td>-1.584963</td>\n",
       "    </tr>\n",
       "    <tr>\n",
       "      <th>1526</th>\n",
       "      <td>middle</td>\n",
       "      <td>0.0</td>\n",
       "      <td>3.0</td>\n",
       "      <td>0.000249</td>\n",
       "      <td>0.000997</td>\n",
       "      <td>0.250000</td>\n",
       "      <td>-2.000000</td>\n",
       "    </tr>\n",
       "    <tr>\n",
       "      <th>1527</th>\n",
       "      <td>second</td>\n",
       "      <td>0.0</td>\n",
       "      <td>1.0</td>\n",
       "      <td>0.000249</td>\n",
       "      <td>0.000498</td>\n",
       "      <td>0.500000</td>\n",
       "      <td>-1.000000</td>\n",
       "    </tr>\n",
       "    <tr>\n",
       "      <th>1528</th>\n",
       "      <td>row</td>\n",
       "      <td>0.0</td>\n",
       "      <td>1.0</td>\n",
       "      <td>0.000249</td>\n",
       "      <td>0.000498</td>\n",
       "      <td>0.500000</td>\n",
       "      <td>-1.000000</td>\n",
       "    </tr>\n",
       "  </tbody>\n",
       "</table>\n",
       "</div>"
      ],
      "text/plain": [
       "             word  pos_count  neg_count     p_pos     p_neg     ratio  \\\n",
       "1514       agency        0.0        2.0  0.000249  0.000747  0.333333   \n",
       "1515          bye        0.0        1.0  0.000249  0.000498  0.500000   \n",
       "1516         john        0.0        1.0  0.000249  0.000498  0.500000   \n",
       "1517         muir        0.0        1.0  0.000249  0.000498  0.500000   \n",
       "1518        sucks        0.0        2.0  0.000249  0.000747  0.333333   \n",
       "1519         xbox        0.0        1.0  0.000249  0.000498  0.500000   \n",
       "1520          360        0.0        1.0  0.000249  0.000498  0.500000   \n",
       "1521      fancast        0.0        1.0  0.000249  0.000498  0.500000   \n",
       "1522       tonite        0.0        2.0  0.000249  0.000747  0.333333   \n",
       "1523      favenot        0.0        1.0  0.000249  0.000498  0.500000   \n",
       "1524  concentrate        0.0        1.0  0.000249  0.000498  0.500000   \n",
       "1525        awake        0.0        2.0  0.000249  0.000747  0.333333   \n",
       "1526       middle        0.0        3.0  0.000249  0.000997  0.250000   \n",
       "1527       second        0.0        1.0  0.000249  0.000498  0.500000   \n",
       "1528          row        0.0        1.0  0.000249  0.000498  0.500000   \n",
       "\n",
       "        lambda  \n",
       "1514 -1.584963  \n",
       "1515 -1.000000  \n",
       "1516 -1.000000  \n",
       "1517 -1.000000  \n",
       "1518 -1.584963  \n",
       "1519 -1.000000  \n",
       "1520 -1.000000  \n",
       "1521 -1.000000  \n",
       "1522 -1.584963  \n",
       "1523 -1.000000  \n",
       "1524 -1.000000  \n",
       "1525 -1.584963  \n",
       "1526 -2.000000  \n",
       "1527 -1.000000  \n",
       "1528 -1.000000  "
      ]
     },
     "execution_count": 181,
     "metadata": {},
     "output_type": "execute_result"
    }
   ],
   "source": [
    "# all_vocabulary = (neg_freq + pos_freq).keys()\n",
    "\n",
    "def build_vocabulary(pos_freq=pos_freq, neg_freq=neg_freq):\n",
    "    df_pos = pd.DataFrame([(k, v) for k, v in pos_freq.items()], columns=['word', 'pos_count'])\n",
    "    df_neg = pd.DataFrame([(k, v) for k, v in neg_freq.items()], columns=['word', 'neg_count'])\n",
    "    df_vocabulary = pd.merge(df_pos, df_neg, on='word', how='outer').fillna(0)\n",
    "    \n",
    "    df_vocabulary['p_pos'] = (df_vocabulary['pos_count'] + 1) / (df_pos.shape[0] + df_vocabulary.shape[0])\n",
    "    df_vocabulary['p_neg'] = (df_vocabulary['neg_count'] + 1) / (df_pos.shape[0] + df_vocabulary.shape[0])\n",
    "    \n",
    "    df_vocabulary['ratio'] = df_vocabulary['p_pos'] / df_vocabulary['p_neg']\n",
    "    df_vocabulary['lambda'] = np.log2(df_vocabulary['ratio'])\n",
    "    \n",
    "    return df_vocabulary\n",
    "\n",
    "df_vocabulary = build_vocabulary()\n",
    "df_vocabulary.loc[df_vocabulary['pos_count'] == 0].head(15)"
   ]
  },
  {
   "cell_type": "code",
   "execution_count": 182,
   "id": "17c9dbc7",
   "metadata": {
    "scrolled": true
   },
   "outputs": [
    {
     "data": {
      "text/html": [
       "<div>\n",
       "<style scoped>\n",
       "    .dataframe tbody tr th:only-of-type {\n",
       "        vertical-align: middle;\n",
       "    }\n",
       "\n",
       "    .dataframe tbody tr th {\n",
       "        vertical-align: top;\n",
       "    }\n",
       "\n",
       "    .dataframe thead th {\n",
       "        text-align: right;\n",
       "    }\n",
       "</style>\n",
       "<table border=\"1\" class=\"dataframe\">\n",
       "  <thead>\n",
       "    <tr style=\"text-align: right;\">\n",
       "      <th></th>\n",
       "      <th>label</th>\n",
       "      <th>id</th>\n",
       "      <th>data</th>\n",
       "      <th>query</th>\n",
       "      <th>author</th>\n",
       "      <th>tweet</th>\n",
       "      <th>adjusted_tweet</th>\n",
       "    </tr>\n",
       "  </thead>\n",
       "  <tbody>\n",
       "    <tr>\n",
       "      <th>132</th>\n",
       "      <td>0</td>\n",
       "      <td>1467842107</td>\n",
       "      <td>Mon Apr 06 22:28:02 PDT 2009</td>\n",
       "      <td>NO_QUERY</td>\n",
       "      <td>wiccabuffy</td>\n",
       "      <td>@Knights_ No, no notice. They told me I'd be working tomorrow, and then I called the agency to follow up and they said it was over.</td>\n",
       "      <td>notice told id work tomorrow called agency follow said</td>\n",
       "    </tr>\n",
       "    <tr>\n",
       "      <th>80</th>\n",
       "      <td>0</td>\n",
       "      <td>1467834053</td>\n",
       "      <td>Mon Apr 06 22:25:52 PDT 2009</td>\n",
       "      <td>NO_QUERY</td>\n",
       "      <td>thelazyboy</td>\n",
       "      <td>sleep soon... i just hate saying bye and see you tomorrow for the night.</td>\n",
       "      <td>sleep soon hate say bye see tomorrow night</td>\n",
       "    </tr>\n",
       "    <tr>\n",
       "      <th>1586</th>\n",
       "      <td>1</td>\n",
       "      <td>1467881695</td>\n",
       "      <td>Mon Apr 06 22:38:24 PDT 2009</td>\n",
       "      <td>NO_QUERY</td>\n",
       "      <td>JonLanderos</td>\n",
       "      <td>Ahh, the tedium of fixing broken file links in Inventor.  Good times.</td>\n",
       "      <td>ahh tedium fix broken file links inventor good times</td>\n",
       "    </tr>\n",
       "    <tr>\n",
       "      <th>2157</th>\n",
       "      <td>1</td>\n",
       "      <td>1467987805</td>\n",
       "      <td>Mon Apr 06 23:08:11 PDT 2009</td>\n",
       "      <td>NO_QUERY</td>\n",
       "      <td>Tarale</td>\n",
       "      <td>Had a great lunch with one of my &amp;quot;mums&amp;quot; today, @christineirmler  It's her birthday tomorrow too so I got her a little something</td>\n",
       "      <td>great lunch one mums today birthday tomorrow got little someth</td>\n",
       "    </tr>\n",
       "    <tr>\n",
       "      <th>758</th>\n",
       "      <td>0</td>\n",
       "      <td>1467999499</td>\n",
       "      <td>Mon Apr 06 23:11:30 PDT 2009</td>\n",
       "      <td>NO_QUERY</td>\n",
       "      <td>jj_1983</td>\n",
       "      <td>Back at work  @ John Muir Dr http://loopt.us/KoqAbg</td>\n",
       "      <td>back work john muir dr</td>\n",
       "    </tr>\n",
       "  </tbody>\n",
       "</table>\n",
       "</div>"
      ],
      "text/plain": [
       "      label          id                          data     query       author  \\\n",
       "132       0  1467842107  Mon Apr 06 22:28:02 PDT 2009  NO_QUERY   wiccabuffy   \n",
       "80        0  1467834053  Mon Apr 06 22:25:52 PDT 2009  NO_QUERY   thelazyboy   \n",
       "1586      1  1467881695  Mon Apr 06 22:38:24 PDT 2009  NO_QUERY  JonLanderos   \n",
       "2157      1  1467987805  Mon Apr 06 23:08:11 PDT 2009  NO_QUERY       Tarale   \n",
       "758       0  1467999499  Mon Apr 06 23:11:30 PDT 2009  NO_QUERY      jj_1983   \n",
       "\n",
       "                                                                                                                                          tweet  \\\n",
       "132        @Knights_ No, no notice. They told me I'd be working tomorrow, and then I called the agency to follow up and they said it was over.    \n",
       "80                                                                    sleep soon... i just hate saying bye and see you tomorrow for the night.    \n",
       "1586                                                                    Ahh, the tedium of fixing broken file links in Inventor.  Good times.     \n",
       "2157  Had a great lunch with one of my &quot;mums&quot; today, @christineirmler  It's her birthday tomorrow too so I got her a little something   \n",
       "758                                                                                         Back at work  @ John Muir Dr http://loopt.us/KoqAbg   \n",
       "\n",
       "                                                      adjusted_tweet  \n",
       "132           notice told id work tomorrow called agency follow said  \n",
       "80                        sleep soon hate say bye see tomorrow night  \n",
       "1586            ahh tedium fix broken file links inventor good times  \n",
       "2157  great lunch one mums today birthday tomorrow got little someth  \n",
       "758                                           back work john muir dr  "
      ]
     },
     "execution_count": 182,
     "metadata": {},
     "output_type": "execute_result"
    }
   ],
   "source": [
    "train.head()"
   ]
  },
  {
   "cell_type": "code",
   "execution_count": 183,
   "id": "64019322",
   "metadata": {},
   "outputs": [],
   "source": [
    "def calculate_scores(sentence, df_vocabulary = df_vocabulary):\n",
    "    words_list = sentence.split(' ')\n",
    "    score = 0\n",
    "    for word in words_list:\n",
    "        value = df_vocabulary.loc[df_vocabulary['word'] == word, 'lambda']\n",
    "        score += list(df_vocabulary.loc[df_vocabulary['word'] == word, 'lambda'])[0] if len(value) > 0 else 0\n",
    "    return score"
   ]
  },
  {
   "cell_type": "code",
   "execution_count": 185,
   "id": "b4ca06f6",
   "metadata": {},
   "outputs": [],
   "source": [
    "train['score'] = train[\"adjusted_tweet\"].map(calculate_scores).tolist()\n",
    "train['pred'] = (train['score'] > 0).astype(int)"
   ]
  },
  {
   "cell_type": "code",
   "execution_count": 187,
   "id": "77d94bd7",
   "metadata": {},
   "outputs": [],
   "source": [
    "test['score'] = test[\"adjusted_tweet\"].map(calculate_scores).tolist()\n",
    "test['pred'] = (test['score'] > 0).astype(int)"
   ]
  },
  {
   "cell_type": "code",
   "execution_count": 188,
   "id": "229df504",
   "metadata": {},
   "outputs": [
    {
     "data": {
      "image/png": "[encoded data removed]",
      "text/plain": [
       "<Figure size 432x432 with 1 Axes>"
      ]
     },
     "metadata": {
      "needs_background": "light"
     },
     "output_type": "display_data"
    }
   ],
   "source": [
    "conf_mat = confusion_matrix(test['label'], test['pred'])\n",
    "fig, ax = plot_confusion_matrix(conf_mat=conf_mat, figsize=(6, 6), cmap=plt.cm.Greens)\n",
    "plt.xlabel('Predictions', fontsize=18)\n",
    "plt.ylabel('Actuals', fontsize=18)\n",
    "plt.title('Confusion Matrix', fontsize=18)\n",
    "plt.show()\n"
   ]
  },
  {
   "cell_type": "code",
   "execution_count": 189,
   "id": "b5b6d2de",
   "metadata": {},
   "outputs": [
    {
     "data": {
      "text/plain": [
       "0.6308571428571429"
      ]
     },
     "execution_count": 189,
     "metadata": {},
     "output_type": "execute_result"
    }
   ],
   "source": [
    "logreg=accuracy_score(test['label'], test['pred'])\n",
    "logreg"
   ]
  },
  {
   "cell_type": "code",
   "execution_count": 190,
   "id": "0604b232",
   "metadata": {},
   "outputs": [
    {
     "data": {
      "text/plain": [
       "0.6310017032036948"
      ]
     },
     "execution_count": 190,
     "metadata": {},
     "output_type": "execute_result"
    }
   ],
   "source": [
    "roc_auc_score(test['label'], test['pred'])"
   ]
  },
  {
   "cell_type": "code",
   "execution_count": 191,
   "id": "cfcb8e23",
   "metadata": {},
   "outputs": [
    {
     "name": "stdout",
     "output_type": "stream",
     "text": [
      "              precision    recall  f1-score   support\n",
      "\n",
      "           0       0.62      0.67      0.65       872\n",
      "           1       0.64      0.59      0.62       878\n",
      "\n",
      "    accuracy                           0.63      1750\n",
      "   macro avg       0.63      0.63      0.63      1750\n",
      "weighted avg       0.63      0.63      0.63      1750\n",
      "\n"
     ]
    }
   ],
   "source": [
    "print(metrics.classification_report(test['label'], test['pred']))"
   ]
  },
  {
   "cell_type": "markdown",
   "id": "d2694baf",
   "metadata": {},
   "source": [
    "# Using all data"
   ]
  },
  {
   "cell_type": "code",
   "execution_count": 196,
   "id": "aa70b1a7",
   "metadata": {},
   "outputs": [
    {
     "data": {
      "text/plain": [
       "0    800000\n",
       "1    800000\n",
       "Name: label, dtype: int64"
      ]
     },
     "execution_count": 196,
     "metadata": {},
     "output_type": "execute_result"
    }
   ],
   "source": [
    "df = data\n",
    "df.label.value_counts()"
   ]
  },
  {
   "cell_type": "code",
   "execution_count": 197,
   "id": "4c228d4b",
   "metadata": {},
   "outputs": [],
   "source": [
    "train, test = train_test_split(df, test_size=0.7, random_state=42)\n",
    "\n",
    "train['adjusted_tweet'] = train['tweet'].apply(adjust_tweet)\n",
    "test['adjusted_tweet'] = test['tweet'].apply(adjust_tweet)\n",
    "\n",
    "pos_vocabulary, neg_vocabulary = build_vocabularies(train, 'label', 'adjusted_tweet')\n",
    "neg_freq = collections.Counter(x for x in neg_vocabulary)\n",
    "pos_freq = collections.Counter(x for x in pos_vocabulary)"
   ]
  },
  {
   "cell_type": "code",
   "execution_count": 199,
   "id": "ed59bc73",
   "metadata": {},
   "outputs": [],
   "source": [
    "# test['score'] = test[\"adjusted_tweet\"].map(calculate_scores).tolist()\n",
    "test['score'] = test['adjusted_tweet'].apply(calculate_scores)\n",
    "test['pred'] = (test['score'] > 0).astype(int)"
   ]
  },
  {
   "cell_type": "code",
   "execution_count": 200,
   "id": "dfb84df4",
   "metadata": {},
   "outputs": [
    {
     "data": {
      "image/png": "[encoded data removed]",
      "text/plain": [
       "<Figure size 432x432 with 1 Axes>"
      ]
     },
     "metadata": {
      "needs_background": "light"
     },
     "output_type": "display_data"
    }
   ],
   "source": [
    "conf_mat = confusion_matrix(test['label'], test['pred'])\n",
    "fig, ax = plot_confusion_matrix(conf_mat=conf_mat, figsize=(6, 6), cmap=plt.cm.Greens)\n",
    "plt.xlabel('Predictions', fontsize=18)\n",
    "plt.ylabel('Actuals', fontsize=18)\n",
    "plt.title('Confusion Matrix', fontsize=18)\n",
    "plt.show()"
   ]
  },
  {
   "cell_type": "code",
   "execution_count": 201,
   "id": "a1b3fc9e",
   "metadata": {},
   "outputs": [
    {
     "data": {
      "text/plain": [
       "0.6453928571428571"
      ]
     },
     "execution_count": 201,
     "metadata": {},
     "output_type": "execute_result"
    }
   ],
   "source": [
    "logreg=accuracy_score(test['label'], test['pred'])\n",
    "logreg"
   ]
  },
  {
   "cell_type": "code",
   "execution_count": 202,
   "id": "6edd90f0",
   "metadata": {},
   "outputs": [
    {
     "data": {
      "text/plain": [
       "0.645381794952127"
      ]
     },
     "execution_count": 202,
     "metadata": {},
     "output_type": "execute_result"
    }
   ],
   "source": [
    "roc_auc_score(test['label'], test['pred'])"
   ]
  },
  {
   "cell_type": "code",
   "execution_count": 203,
   "id": "84c46d40",
   "metadata": {},
   "outputs": [
    {
     "name": "stdout",
     "output_type": "stream",
     "text": [
      "              precision    recall  f1-score   support\n",
      "\n",
      "           0       0.64      0.68      0.66    560196\n",
      "           1       0.66      0.61      0.63    559804\n",
      "\n",
      "    accuracy                           0.65   1120000\n",
      "   macro avg       0.65      0.65      0.65   1120000\n",
      "weighted avg       0.65      0.65      0.65   1120000\n",
      "\n"
     ]
    }
   ],
   "source": [
    "print(metrics.classification_report(test['label'], test['pred']))"
   ]
  }
 ],
 "metadata": {
  "kernelspec": {
   "display_name": "Python 3 (ipykernel)",
   "language": "python",
   "name": "python3"
  },
  "language_info": {
   "codemirror_mode": {
    "name": "ipython",
    "version": 3
   },
   "file_extension": ".py",
   "mimetype": "text/x-python",
   "name": "python",
   "nbconvert_exporter": "python",
   "pygments_lexer": "ipython3",
   "version": "3.9.10"
  }
 },
 "nbformat": 4,
 "nbformat_minor": 5
}
